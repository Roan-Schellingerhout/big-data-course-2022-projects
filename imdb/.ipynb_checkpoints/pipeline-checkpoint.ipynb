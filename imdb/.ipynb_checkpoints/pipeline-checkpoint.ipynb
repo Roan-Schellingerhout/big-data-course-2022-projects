{
 "cells": [
  {
   "cell_type": "markdown",
   "id": "de2eb797-3622-422f-97df-95f6f4f454fb",
   "metadata": {},
   "source": [
    "# Import necessary libraries"
   ]
  },
  {
   "cell_type": "code",
   "execution_count": 1,
   "id": "4c8c3a4e-d01b-4874-908d-ec2d1cf22b6e",
   "metadata": {},
   "outputs": [],
   "source": [
    "import json\n",
    "import numpy as np\n",
    "import pandas as pd\n",
    "from itertools import groupby\n",
    "\n",
    "from py_files.writer_director_to_one_hot import writer_director_to_one_hot\n",
    "from py_files.add_merge_begin_end_year import merge_start_end_year\n",
    "from py_files.load_box_office_data import load_and_aggregate_box_office\n",
    "from py_files.add_remake_feature import create_remake_column\n",
    "from py_files.add_langoriginaltitle_feature import add_language_of_original_title\n",
    "from py_files.add_ENvsNonEN_feature import add_english_title_or_not\n",
    "from py_files.add_movie_genre_feature import add_movie_genre\n",
    "\n",
    "from py_files.d2v_embed import d2v_embed\n",
    "from sklearn.model_selection import train_test_split\n",
    "import lightgbm as lgb\n",
    "from sklearn.metrics import accuracy_score\n",
    "import math"
   ]
  },
  {
   "cell_type": "markdown",
   "id": "e59816f3-b00d-4d73-bf8c-401c9a528c99",
   "metadata": {},
   "source": [
    "# Loading the data"
   ]
  },
  {
   "cell_type": "code",
   "execution_count": 2,
   "id": "0f7dcbe7-3de0-4f9d-b1f9-23a235d489cd",
   "metadata": {},
   "outputs": [
    {
     "name": "stdout",
     "output_type": "stream",
     "text": [
      "Found files: train-1.csv, train-2.csv, train-3.csv, train-4.csv, train-5.csv, train-6.csv, train-7.csv, train-8.csv\n"
     ]
    }
   ],
   "source": [
    "from py_files.load_original_data import load_original_data\n",
    "\n",
    "df_original = load_original_data()"
   ]
  },
  {
   "cell_type": "markdown",
   "id": "d8291b2d-ad58-4477-9e9d-8cf717f95f0f",
   "metadata": {},
   "source": [
    "# Preprocessing of original columns"
   ]
  },
  {
   "cell_type": "code",
   "execution_count": 3,
   "id": "bae9711c-aa48-485b-9093-f142059703d8",
   "metadata": {},
   "outputs": [
    {
     "name": "stdout",
     "output_type": "stream",
     "text": [
      "<class 'pandas.core.frame.DataFrame'>\n",
      "RangeIndex: 7959 entries, 0 to 7958\n",
      "Data columns (total 10 columns):\n",
      " #   Column                 Non-Null Count  Dtype  \n",
      "---  ------                 --------------  -----  \n",
      " 0   tconst                 7959 non-null   object \n",
      " 1   primaryTitle           7959 non-null   object \n",
      " 2   originalTitle          3971 non-null   object \n",
      " 3   startYear              7173 non-null   object \n",
      " 4   endYear                786 non-null    object \n",
      " 5   runtimeMinutes         7946 non-null   float64\n",
      " 6   numVotes               7169 non-null   float64\n",
      " 7   label                  7959 non-null   bool   \n",
      " 8   primaryTitleFormatted  7959 non-null   object \n",
      " 9   Year                   7959 non-null   int32  \n",
      "dtypes: bool(1), float64(2), int32(1), object(6)\n",
      "memory usage: 536.4+ KB\n"
     ]
    }
   ],
   "source": [
    "# copy the dataframe so we leave the original untouched\n",
    "df_preprocessed = df_original.copy(deep=True)\n",
    "\n",
    "# start the preprocessing\n",
    "df_preprocessed = df_original.replace(\"\\\\N\", np.nan)\n",
    "df_preprocessed[\"primaryTitleFormatted\"] = df_preprocessed[\"primaryTitle\"].str.lower()\\\n",
    "                                                                          .str.normalize('NFKD')\\\n",
    "                                                                          .str.encode('ascii', errors='ignore')\\\n",
    "                                                                          .str.decode('utf-8')\\\n",
    "                                                                          .str.replace(\" \", \"_\", regex=True)\\\n",
    "                                                                          .str.replace(\"\\W\", \"\", regex=True)\n",
    "\n",
    "# merge endYear into beginYear when beginYear is not available --> rename Year\n",
    "df_preprocessed = merge_start_end_year(df_preprocessed)\n",
    "\n",
    "# set the datatypes of the dataframe correctly\n",
    "df_preprocessed['Year'] = df_preprocessed['Year'].astype(int)\n",
    "df_preprocessed['runtimeMinutes'] = df_preprocessed['runtimeMinutes'].astype(float)\n",
    "\n",
    "df_preprocessed.info()"
   ]
  },
  {
   "cell_type": "markdown",
   "id": "c13628a1-7394-4a0f-bf00-8ea7ce5f8a26",
   "metadata": {},
   "source": [
    "## Preprocessing of exogenous data"
   ]
  },
  {
   "cell_type": "markdown",
   "id": "0f3a5e9f-6bbc-4094-b30d-79eedc0e9613",
   "metadata": {},
   "source": [
    "### Oscar data"
   ]
  },
  {
   "cell_type": "code",
   "execution_count": 4,
   "id": "d4ec5f29-a1a8-4dbe-9d38-ea74c40891af",
   "metadata": {},
   "outputs": [],
   "source": [
    "oscars = pd.read_csv(\"additional_data/oscars.csv\")\n",
    "\n",
    "oscars[\"film\"] = oscars[\"film\"].str.lower()\\\n",
    "                               .str.normalize('NFKD')\\\n",
    "                               .str.encode('ascii', errors='ignore')\\\n",
    "                               .str.decode('utf-8')\\\n",
    "                               .str.replace(\" \", \"_\", regex=True)\\\n",
    "                               .str.replace(\"\\W\", \"\", regex=True)\n",
    "\n",
    "# Counting oscar nominations and wins per movie\n",
    "oscar_noms = pd.merge(df_preprocessed, oscars, left_on = \"primaryTitleFormatted\", right_on = \"film\").groupby(\"tconst\")[\"winner\"].count()\n",
    "oscar_wins = pd.merge(df_preprocessed, oscars, left_on = \"primaryTitleFormatted\", right_on = \"film\").groupby(\"tconst\")[\"winner\"].sum()"
   ]
  },
  {
   "cell_type": "markdown",
   "id": "c91f1da1-6a79-4b57-9eb3-87796ce460e2",
   "metadata": {},
   "source": [
    "### Writer and Director data"
   ]
  },
  {
   "cell_type": "code",
   "execution_count": 5,
   "id": "3549ed24-a788-4a2d-80b3-1e26ebbefd9d",
   "metadata": {},
   "outputs": [],
   "source": [
    "# Find writers and directors per movie and combine the two\n",
    "written_and_directed = (writer_director_to_one_hot(\"writers\") + writer_director_to_one_hot(\"directors\")).fillna(0).astype(int).loc[df_preprocessed['tconst']]"
   ]
  },
  {
   "cell_type": "markdown",
   "id": "6bb61c28-a98e-49a3-ae69-6a505c193f84",
   "metadata": {},
   "source": [
    "### TMDB data"
   ]
  },
  {
   "cell_type": "code",
   "execution_count": null,
   "id": "e1eb9dfd-13ae-4ecf-8a1e-90236bf4767e",
   "metadata": {},
   "outputs": [],
   "source": []
  },
  {
   "cell_type": "markdown",
   "id": "82526bd3-364f-4db2-919f-1e9a9c90ef31",
   "metadata": {},
   "source": [
    "### Box Office data"
   ]
  },
  {
   "cell_type": "code",
   "execution_count": 6,
   "id": "69ab0f07-c114-4741-8ba1-5b162676582f",
   "metadata": {},
   "outputs": [
    {
     "name": "stdout",
     "output_type": "stream",
     "text": [
      "Found files: box_office_mojo\\1977.csv, box_office_mojo\\1978.csv, box_office_mojo\\1979.csv, box_office_mojo\\1980.csv, box_office_mojo\\1981.csv, box_office_mojo\\1982.csv, box_office_mojo\\1983.csv, box_office_mojo\\1984.csv, box_office_mojo\\1985.csv, box_office_mojo\\1986.csv, box_office_mojo\\1987.csv, box_office_mojo\\1988.csv, box_office_mojo\\1989.csv, box_office_mojo\\1990.csv, box_office_mojo\\1991.csv, box_office_mojo\\1992.csv, box_office_mojo\\1993.csv, box_office_mojo\\1994.csv, box_office_mojo\\1995.csv, box_office_mojo\\1996.csv, box_office_mojo\\1997.csv, box_office_mojo\\1998.csv, box_office_mojo\\1999.csv, box_office_mojo\\2000.csv, box_office_mojo\\2001.csv, box_office_mojo\\2002.csv, box_office_mojo\\2003.csv, box_office_mojo\\2004.csv, box_office_mojo\\2005.csv, box_office_mojo\\2006.csv, box_office_mojo\\2007.csv, box_office_mojo\\2008.csv, box_office_mojo\\2009.csv, box_office_mojo\\2010.csv, box_office_mojo\\2011.csv, box_office_mojo\\2012.csv, box_office_mojo\\2013.csv, box_office_mojo\\2014.csv, box_office_mojo\\2015.csv, box_office_mojo\\2016.csv, box_office_mojo\\2017.csv, box_office_mojo\\2018.csv, box_office_mojo\\2019.csv, box_office_mojo\\2020.csv, box_office_mojo\\2021.csv, box_office_mojo\\2022.csv\n"
     ]
    }
   ],
   "source": [
    "df_box_office_mojo = load_and_aggregate_box_office()\n",
    "\n",
    "# process the 'release group' (read movie title) in the same way as the formatted title\n",
    "df_box_office_mojo[\"Release Group\"] = df_box_office_mojo[\"Release Group\"].str.lower()\\\n",
    "                                       .str.normalize('NFKD')\\\n",
    "                                       .str.encode('ascii', errors='ignore')\\\n",
    "                                       .str.decode('utf-8')\\\n",
    "                                       .str.replace(\" \", \"_\", regex=True)\\\n",
    "                                       .str.replace(\"\\W\", \"\", regex=True)\n",
    "df_box_office_mojo.drop(['%', '%.1'], axis=1, inplace=True)"
   ]
  },
  {
   "cell_type": "markdown",
   "id": "a2446b69-5867-4d66-9df7-03da9d2559d4",
   "metadata": {},
   "source": [
    "# Adding of exogenous columns"
   ]
  },
  {
   "cell_type": "code",
   "execution_count": 7,
   "id": "0b46bee7-f2ac-4c41-ba16-8f62ae993999",
   "metadata": {},
   "outputs": [
    {
     "name": "stdout",
     "output_type": "stream",
     "text": [
      "<class 'pandas.core.frame.DataFrame'>\n",
      "Index: 7959 entries, tt0010600 to tt9911196\n",
      "Data columns (total 9 columns):\n",
      " #   Column                 Non-Null Count  Dtype  \n",
      "---  ------                 --------------  -----  \n",
      " 0   primaryTitle           7959 non-null   object \n",
      " 1   originalTitle          3971 non-null   object \n",
      " 2   startYear              7173 non-null   object \n",
      " 3   endYear                786 non-null    object \n",
      " 4   runtimeMinutes         7946 non-null   float64\n",
      " 5   numVotes               7169 non-null   float64\n",
      " 6   label                  7959 non-null   bool   \n",
      " 7   primaryTitleFormatted  7959 non-null   object \n",
      " 8   Year                   7959 non-null   int32  \n",
      "dtypes: bool(1), float64(2), int32(1), object(5)\n",
      "memory usage: 536.3+ KB\n"
     ]
    }
   ],
   "source": [
    "df_incl_exog = df_preprocessed.copy(deep=True)\n",
    "df_incl_exog = df_incl_exog.rename({\"tconst\" : \"id\"}, axis = 1).set_index(\"id\")\n",
    "df_incl_exog.info()"
   ]
  },
  {
   "cell_type": "markdown",
   "id": "c3dae00e-a724-4937-ab4b-b8f1c0057279",
   "metadata": {},
   "source": [
    "## add oscar data"
   ]
  },
  {
   "cell_type": "code",
   "execution_count": 8,
   "id": "739d5c22-fda8-4037-a984-c089c5e0c56d",
   "metadata": {},
   "outputs": [],
   "source": [
    "df_incl_exog[\"oscar_noms\"] = oscar_noms\n",
    "df_incl_exog[\"oscar_wins\"] = oscar_wins"
   ]
  },
  {
   "cell_type": "markdown",
   "id": "e6caad7a-65a6-42e5-9d56-57550539430e",
   "metadata": {},
   "source": [
    "## add mojo box office"
   ]
  },
  {
   "cell_type": "code",
   "execution_count": 9,
   "id": "f667716a-0aa2-494c-98af-bfdc45ee4e70",
   "metadata": {},
   "outputs": [],
   "source": [
    "df_incl_exog = df_incl_exog.reset_index().merge(df_box_office_mojo, left_on=['primaryTitleFormatted', 'Year'], right_on=['Release Group', 'year'], how=\"left\").set_index('id')\n",
    "df_incl_exog.drop(['Release Group', 'year'], axis=1, inplace=True)\n",
    "\n",
    "df_incl_exog.loc[df_incl_exog['Worldwide'] == '-', 'Worldwide'] = np.nan\n",
    "df_incl_exog.loc[df_incl_exog['Domestic'] == '-', 'Domestic'] = np.nan\n",
    "df_incl_exog.loc[df_incl_exog['Foreign'] == '-', 'Foreign'] = np.nan\n",
    "df_incl_exog.loc[df_incl_exog['Worldwide'].notnull(), 'Worldwide'] = df_incl_exog.loc[df_incl_exog['Worldwide'].notnull(), 'Worldwide'].apply(lambda x: float(x.replace('$', '').replace(',', '')))\n",
    "df_incl_exog.loc[df_incl_exog['Domestic'].notnull(), 'Domestic'] = df_incl_exog.loc[df_incl_exog['Domestic'].notnull(), 'Domestic'].apply(lambda x: float(x.replace('$', '').replace(',', '')))\n",
    "df_incl_exog.loc[df_incl_exog['Foreign'].notnull(), 'Foreign'] = df_incl_exog.loc[df_incl_exog['Foreign'].notnull(), 'Foreign'].apply(lambda x: float(x.replace('$', '').replace(',', '')))"
   ]
  },
  {
   "cell_type": "markdown",
   "id": "0df971c9-ef59-4c29-9ab2-99396a2b2376",
   "metadata": {},
   "source": [
    "## add remake column"
   ]
  },
  {
   "cell_type": "code",
   "execution_count": 10,
   "id": "38866dfb-4664-4e21-91db-a15c00210d83",
   "metadata": {},
   "outputs": [],
   "source": [
    "df_incl_exog = create_remake_column(df_incl_exog)"
   ]
  },
  {
   "cell_type": "markdown",
   "id": "0536fd42-e58b-4f89-a3d6-f6367c7ace74",
   "metadata": {},
   "source": [
    "## add title language"
   ]
  },
  {
   "cell_type": "code",
   "execution_count": 11,
   "id": "433f4db5-5b7d-4cca-b78e-fc58a679dfbe",
   "metadata": {},
   "outputs": [],
   "source": [
    "# # add the language of the original title, currently commented for training data usage and not wait 15 min every time\n",
    "# df_incl_exog = add_language_of_original_title(df_incl_exog)\n",
    "\n",
    "df_added_lang = pd.read_csv('additional_data/df_added_lang.csv', index_col=0)\n",
    "df_added_lang = df_added_lang.rename({\"tconst\" : \"id\"}, axis = 1).set_index(\"id\")\n",
    "df_incl_exog = df_incl_exog.join(df_added_lang['title_language'], how='left')"
   ]
  },
  {
   "cell_type": "markdown",
   "id": "f10e08e1-082f-4c4d-9226-96037e800e78",
   "metadata": {},
   "source": [
    "## add whether title is English or not"
   ]
  },
  {
   "cell_type": "code",
   "execution_count": 12,
   "id": "dbbb9f93-740b-4665-8603-a9c01ae72d5b",
   "metadata": {},
   "outputs": [],
   "source": [
    "df_incl_exog = add_english_title_or_not(df_incl_exog)"
   ]
  },
  {
   "cell_type": "markdown",
   "id": "2474618a-1b2f-450f-b6fa-0d29c0e3f787",
   "metadata": {},
   "source": [
    "## add movie genres"
   ]
  },
  {
   "cell_type": "code",
   "execution_count": 13,
   "id": "ebdf82d3-11c4-4123-b32f-c18edcd62b3f",
   "metadata": {},
   "outputs": [],
   "source": [
    "df_incl_exog = add_movie_genre(df_incl_exog)"
   ]
  },
  {
   "cell_type": "markdown",
   "id": "d7cdede2-af9c-4016-9b83-21b412c94a03",
   "metadata": {},
   "source": [
    "## add writers and directors"
   ]
  },
  {
   "cell_type": "code",
   "execution_count": 14,
   "id": "91072814-513e-4703-bdc7-02b8fff1c1a3",
   "metadata": {},
   "outputs": [],
   "source": [
    "df_incl_exog = pd.concat([df_incl_exog.T, written_and_directed.T]).T"
   ]
  },
  {
   "cell_type": "markdown",
   "id": "7a07d253-1413-4361-ac37-5e24d6f70aab",
   "metadata": {},
   "source": [
    "## add TMDB data"
   ]
  },
  {
   "cell_type": "code",
   "execution_count": null,
   "id": "159932a5-a54d-4c12-bc65-7576145ecafe",
   "metadata": {},
   "outputs": [],
   "source": []
  },
  {
   "cell_type": "markdown",
   "id": "60a73f82-6734-4a3b-94b6-4002379ac243",
   "metadata": {},
   "source": [
    "## save dataframe with features"
   ]
  },
  {
   "cell_type": "code",
   "execution_count": 15,
   "id": "d2beeae1-35dc-4c88-9b41-89f5c03f6bb2",
   "metadata": {},
   "outputs": [],
   "source": [
    "df_incl_exog.to_csv('df_with_features.csv')"
   ]
  },
  {
   "cell_type": "markdown",
   "id": "ddfd8d91",
   "metadata": {},
   "source": [
    "# Preparing data for classifier"
   ]
  },
  {
   "cell_type": "markdown",
   "id": "a9b4fe2f",
   "metadata": {},
   "source": [
    "Convert non-numeric columns to numeric.\n",
    "We use Doc2Vec to embed each string column into n-by-128 array "
   ]
  },
  {
   "cell_type": "code",
   "execution_count": 2,
   "id": "ef1a4fd8",
   "metadata": {},
   "outputs": [],
   "source": [
    "df = pd.read_csv('df_with_features.csv', index_col=0)"
   ]
  },
  {
   "cell_type": "code",
   "execution_count": 3,
   "id": "3cddb23b",
   "metadata": {},
   "outputs": [
    {
     "name": "stderr",
     "output_type": "stream",
     "text": [
      "100%|████████████████████████████████████████████████████████████████████████████████| 100/100 [03:48<00:00,  2.28s/it]\n",
      "100%|████████████████████████████████████████████████████████████████████████████████| 100/100 [03:24<00:00,  2.04s/it]\n",
      "100%|████████████████████████████████████████████████████████████████████████████████| 100/100 [03:05<00:00,  1.86s/it]\n",
      "100%|████████████████████████████████████████████████████████████████████████████████| 100/100 [01:27<00:00,  1.14it/s]\n",
      "100%|████████████████████████████████████████████████████████████████████████████████| 100/100 [01:21<00:00,  1.22it/s]\n"
     ]
    }
   ],
   "source": [
    "prim_title_df = d2v_embed(df['primaryTitle'])\n",
    "orig_title_df = d2v_embed(df['originalTitle'])\n",
    "prim_title_formatted_df = d2v_embed(df['primaryTitleFormatted'])\n",
    "title_formatted_df = d2v_embed(df['titleFormatted'])\n",
    "genres_df = d2v_embed(df['genres'])"
   ]
  },
  {
   "cell_type": "code",
   "execution_count": 4,
   "id": "b0c6ebb0",
   "metadata": {},
   "outputs": [],
   "source": [
    "# just encode languages into ints for this column\n",
    "df['title_language'] = pd.factorize(df['title_language'])[0]"
   ]
  },
  {
   "cell_type": "markdown",
   "id": "6bd196bd-d145-4a63-a431-219af524380e",
   "metadata": {},
   "source": [
    "# Selecting data for predicting"
   ]
  },
  {
   "cell_type": "code",
   "execution_count": 5,
   "id": "1438a851-1415-4118-9e35-a1fe5e4c59d9",
   "metadata": {},
   "outputs": [],
   "source": [
    "df.drop(columns = df.select_dtypes(include='object').columns, inplace=True)"
   ]
  },
  {
   "cell_type": "code",
   "execution_count": 6,
   "id": "52ba2a0e",
   "metadata": {},
   "outputs": [],
   "source": [
    "# dealing with (some) nan values\n",
    "for index, row in df.iterrows():\n",
    "    # For missing startYear or endYear entries, insert the other, if it exists.\n",
    "    if math.isnan(row['startYear']):\n",
    "        if not math.isnan(row['endYear']):\n",
    "            df.at[index,'startYear']=df.at[index,'endYear']\n",
    "    if math.isnan(row['endYear']):\n",
    "        if not math.isnan(row['startYear']):\n",
    "            df.at[index,'endYear']=df.at[index,'startYear']\n",
    "    \n",
    "    # For missing oscar_noms and oscar_wins, insert 0\n",
    "    if math.isnan(row['oscar_noms']):\n",
    "        df.at[index,'oscar_noms'] = 0\n",
    "    if math.isnan(row['oscar_wins']):\n",
    "        df.at[index,'oscar_wins'] = 0\n",
    "\n",
    "df['numVotes'] = df['numVotes'].fillna(df['numVotes'].mean(skipna=True))\n",
    "df['runtimeMinutes'] = df['runtimeMinutes'].fillna(df['runtimeMinutes'].mean(skipna=True))"
   ]
  },
  {
   "cell_type": "code",
   "execution_count": 7,
   "id": "62a73696",
   "metadata": {},
   "outputs": [
    {
     "data": {
      "text/html": [
       "<div>\n",
       "<style scoped>\n",
       "    .dataframe tbody tr th:only-of-type {\n",
       "        vertical-align: middle;\n",
       "    }\n",
       "\n",
       "    .dataframe tbody tr th {\n",
       "        vertical-align: top;\n",
       "    }\n",
       "\n",
       "    .dataframe thead th {\n",
       "        text-align: right;\n",
       "    }\n",
       "</style>\n",
       "<table border=\"1\" class=\"dataframe\">\n",
       "  <thead>\n",
       "    <tr style=\"text-align: right;\">\n",
       "      <th></th>\n",
       "      <th>startYear</th>\n",
       "      <th>endYear</th>\n",
       "      <th>runtimeMinutes</th>\n",
       "      <th>numVotes</th>\n",
       "      <th>label</th>\n",
       "      <th>Year</th>\n",
       "      <th>oscar_noms</th>\n",
       "      <th>oscar_wins</th>\n",
       "      <th>Rank</th>\n",
       "      <th>Worldwide</th>\n",
       "      <th>...</th>\n",
       "      <th>titleFormatted_118</th>\n",
       "      <th>titleFormatted_119</th>\n",
       "      <th>titleFormatted_120</th>\n",
       "      <th>titleFormatted_121</th>\n",
       "      <th>titleFormatted_122</th>\n",
       "      <th>titleFormatted_123</th>\n",
       "      <th>titleFormatted_124</th>\n",
       "      <th>titleFormatted_125</th>\n",
       "      <th>titleFormatted_126</th>\n",
       "      <th>titleFormatted_127</th>\n",
       "    </tr>\n",
       "  </thead>\n",
       "  <tbody>\n",
       "    <tr>\n",
       "      <th>tt0010600</th>\n",
       "      <td>1919.0</td>\n",
       "      <td>1919.0</td>\n",
       "      <td>66.0</td>\n",
       "      <td>1898.0</td>\n",
       "      <td>True</td>\n",
       "      <td>1919</td>\n",
       "      <td>0.0</td>\n",
       "      <td>0.0</td>\n",
       "      <td>NaN</td>\n",
       "      <td>NaN</td>\n",
       "      <td>...</td>\n",
       "      <td>-0.055023</td>\n",
       "      <td>-0.009641</td>\n",
       "      <td>-0.006508</td>\n",
       "      <td>0.360667</td>\n",
       "      <td>0.190912</td>\n",
       "      <td>-0.138266</td>\n",
       "      <td>0.039766</td>\n",
       "      <td>-0.014868</td>\n",
       "      <td>0.217307</td>\n",
       "      <td>-0.140372</td>\n",
       "    </tr>\n",
       "    <tr>\n",
       "      <th>tt0011841</th>\n",
       "      <td>1920.0</td>\n",
       "      <td>1920.0</td>\n",
       "      <td>145.0</td>\n",
       "      <td>5376.0</td>\n",
       "      <td>True</td>\n",
       "      <td>1920</td>\n",
       "      <td>0.0</td>\n",
       "      <td>0.0</td>\n",
       "      <td>NaN</td>\n",
       "      <td>NaN</td>\n",
       "      <td>...</td>\n",
       "      <td>-0.056519</td>\n",
       "      <td>-0.049163</td>\n",
       "      <td>-0.051074</td>\n",
       "      <td>0.049195</td>\n",
       "      <td>-0.067826</td>\n",
       "      <td>-0.086067</td>\n",
       "      <td>-0.073648</td>\n",
       "      <td>-0.074869</td>\n",
       "      <td>-0.104015</td>\n",
       "      <td>-0.118744</td>\n",
       "    </tr>\n",
       "    <tr>\n",
       "      <th>tt0012494</th>\n",
       "      <td>1921.0</td>\n",
       "      <td>1921.0</td>\n",
       "      <td>97.0</td>\n",
       "      <td>5842.0</td>\n",
       "      <td>True</td>\n",
       "      <td>1921</td>\n",
       "      <td>0.0</td>\n",
       "      <td>0.0</td>\n",
       "      <td>NaN</td>\n",
       "      <td>NaN</td>\n",
       "      <td>...</td>\n",
       "      <td>0.003397</td>\n",
       "      <td>-0.001142</td>\n",
       "      <td>-0.001421</td>\n",
       "      <td>-0.001415</td>\n",
       "      <td>-0.002896</td>\n",
       "      <td>-0.000091</td>\n",
       "      <td>0.002653</td>\n",
       "      <td>-0.000516</td>\n",
       "      <td>-0.002534</td>\n",
       "      <td>0.002590</td>\n",
       "    </tr>\n",
       "    <tr>\n",
       "      <th>tt0015163</th>\n",
       "      <td>1924.0</td>\n",
       "      <td>1924.0</td>\n",
       "      <td>59.0</td>\n",
       "      <td>9652.0</td>\n",
       "      <td>True</td>\n",
       "      <td>1924</td>\n",
       "      <td>0.0</td>\n",
       "      <td>0.0</td>\n",
       "      <td>NaN</td>\n",
       "      <td>NaN</td>\n",
       "      <td>...</td>\n",
       "      <td>-0.002926</td>\n",
       "      <td>-0.003490</td>\n",
       "      <td>-0.003414</td>\n",
       "      <td>-0.003009</td>\n",
       "      <td>-0.002648</td>\n",
       "      <td>-0.003438</td>\n",
       "      <td>0.003772</td>\n",
       "      <td>0.000833</td>\n",
       "      <td>0.003160</td>\n",
       "      <td>-0.002091</td>\n",
       "    </tr>\n",
       "    <tr>\n",
       "      <th>tt0016220</th>\n",
       "      <td>1925.0</td>\n",
       "      <td>1925.0</td>\n",
       "      <td>93.0</td>\n",
       "      <td>17887.0</td>\n",
       "      <td>True</td>\n",
       "      <td>1925</td>\n",
       "      <td>3.0</td>\n",
       "      <td>0.0</td>\n",
       "      <td>NaN</td>\n",
       "      <td>NaN</td>\n",
       "      <td>...</td>\n",
       "      <td>0.002632</td>\n",
       "      <td>-0.001953</td>\n",
       "      <td>0.003525</td>\n",
       "      <td>-0.001428</td>\n",
       "      <td>-0.003035</td>\n",
       "      <td>0.002686</td>\n",
       "      <td>-0.002837</td>\n",
       "      <td>0.002153</td>\n",
       "      <td>0.001681</td>\n",
       "      <td>-0.002182</td>\n",
       "    </tr>\n",
       "  </tbody>\n",
       "</table>\n",
       "<p>5 rows × 18455 columns</p>\n",
       "</div>"
      ],
      "text/plain": [
       "           startYear  endYear  runtimeMinutes  numVotes  label  Year  \\\n",
       "tt0010600     1919.0   1919.0            66.0    1898.0   True  1919   \n",
       "tt0011841     1920.0   1920.0           145.0    5376.0   True  1920   \n",
       "tt0012494     1921.0   1921.0            97.0    5842.0   True  1921   \n",
       "tt0015163     1924.0   1924.0            59.0    9652.0   True  1924   \n",
       "tt0016220     1925.0   1925.0            93.0   17887.0   True  1925   \n",
       "\n",
       "           oscar_noms  oscar_wins  Rank  Worldwide  ...  titleFormatted_118  \\\n",
       "tt0010600         0.0         0.0   NaN        NaN  ...           -0.055023   \n",
       "tt0011841         0.0         0.0   NaN        NaN  ...           -0.056519   \n",
       "tt0012494         0.0         0.0   NaN        NaN  ...            0.003397   \n",
       "tt0015163         0.0         0.0   NaN        NaN  ...           -0.002926   \n",
       "tt0016220         3.0         0.0   NaN        NaN  ...            0.002632   \n",
       "\n",
       "           titleFormatted_119  titleFormatted_120  titleFormatted_121  \\\n",
       "tt0010600           -0.009641           -0.006508            0.360667   \n",
       "tt0011841           -0.049163           -0.051074            0.049195   \n",
       "tt0012494           -0.001142           -0.001421           -0.001415   \n",
       "tt0015163           -0.003490           -0.003414           -0.003009   \n",
       "tt0016220           -0.001953            0.003525           -0.001428   \n",
       "\n",
       "           titleFormatted_122  titleFormatted_123  titleFormatted_124  \\\n",
       "tt0010600            0.190912           -0.138266            0.039766   \n",
       "tt0011841           -0.067826           -0.086067           -0.073648   \n",
       "tt0012494           -0.002896           -0.000091            0.002653   \n",
       "tt0015163           -0.002648           -0.003438            0.003772   \n",
       "tt0016220           -0.003035            0.002686           -0.002837   \n",
       "\n",
       "           titleFormatted_125  titleFormatted_126  titleFormatted_127  \n",
       "tt0010600           -0.014868            0.217307           -0.140372  \n",
       "tt0011841           -0.074869           -0.104015           -0.118744  \n",
       "tt0012494           -0.000516           -0.002534            0.002590  \n",
       "tt0015163            0.000833            0.003160           -0.002091  \n",
       "tt0016220            0.002153            0.001681           -0.002182  \n",
       "\n",
       "[5 rows x 18455 columns]"
      ]
     },
     "execution_count": 7,
     "metadata": {},
     "output_type": "execute_result"
    }
   ],
   "source": [
    "df = df.join(prim_title_df)\n",
    "df = df.join(orig_title_df)\n",
    "df = df.join(prim_title_formatted_df)\n",
    "df = df.join(title_formatted_df)\n",
    "# df = df.join(genres_df)\n",
    "df.head()"
   ]
  },
  {
   "cell_type": "markdown",
   "id": "c9a3e00b-bc50-485b-8ab0-00183a6bb9d8",
   "metadata": {},
   "source": [
    "df_added_dataclassifier"
   ]
  },
  {
   "cell_type": "code",
   "execution_count": 8,
   "id": "28fc0ce7-1f2a-49b7-8643-e666c23fda45",
   "metadata": {},
   "outputs": [],
   "source": [
    "train_df, valid_df = train_test_split(df, train_size=0.7, shuffle=True, stratify=df['label'], random_state=17)"
   ]
  },
  {
   "cell_type": "markdown",
   "id": "b01c43d4-36ac-4082-a627-22f2f6e2ef5b",
   "metadata": {},
   "source": [
    "# Evaluating classifier"
   ]
  },
  {
   "cell_type": "code",
   "execution_count": 9,
   "id": "7b3cfad8-1582-4616-9bf3-677c07c39df6",
   "metadata": {},
   "outputs": [
    {
     "name": "stderr",
     "output_type": "stream",
     "text": [
      "C:\\ProgramData\\Anaconda3\\lib\\site-packages\\lightgbm\\engine.py:177: UserWarning: Found `num_iterations` in params. Will use it instead of argument\n",
      "  _log_warning(f\"Found `{alias}` in params. Will use it instead of argument\")\n"
     ]
    },
    {
     "name": "stdout",
     "output_type": "stream",
     "text": [
      "[LightGBM] [Warning] feature_fraction is set=0.8, colsample_bytree=1.0 will be ignored. Current value: feature_fraction=0.8\n",
      "[LightGBM] [Warning] feature_fraction is set=0.8, colsample_bytree=1.0 will be ignored. Current value: feature_fraction=0.8\n",
      "[LightGBM] [Info] Number of positive: 2793, number of negative: 2778\n",
      "[LightGBM] [Warning] Auto-choosing col-wise multi-threading, the overhead of testing was 0.036022 seconds.\n",
      "You can set `force_col_wise=true` to remove the overhead.\n",
      "[LightGBM] [Info] Total Bins 132362\n",
      "[LightGBM] [Info] Number of data points in the train set: 5571, number of used features: 546\n",
      "[LightGBM] [Info] [binary:BoostFromScore]: pavg=0.501346 -> initscore=0.005385\n",
      "[LightGBM] [Info] Start training from score 0.005385\n"
     ]
    },
    {
     "data": {
      "text/plain": [
       "LGBMClassifier(feature_fraction=0.8, learning_rate=0.01, num_iterations=1000,\n",
       "               objective='binary', random_state=17, verbosity=1)"
      ]
     },
     "execution_count": 9,
     "metadata": {},
     "output_type": "execute_result"
    }
   ],
   "source": [
    "model_lgbm = lgb.LGBMClassifier(objective='binary',\n",
    "                                learning_rate=0.01,\n",
    "                                num_iterations=1000,\n",
    "                                feature_fraction=0.8,\n",
    "                                verbosity=1,\n",
    "                                random_state=17)\n",
    "model_lgbm.fit(train_df.loc[:, train_df.columns != 'label'],\n",
    "              train_df['label'],\n",
    "              eval_metric='logloss')"
   ]
  },
  {
   "cell_type": "markdown",
   "id": "4ca9e8f9-2472-44bb-a561-16b23cfe4c63",
   "metadata": {},
   "source": [
    "# Predicting"
   ]
  },
  {
   "cell_type": "code",
   "execution_count": 10,
   "id": "cb8259cc-1bc6-4447-8d9e-7cf00d9bc89c",
   "metadata": {},
   "outputs": [
    {
     "data": {
      "text/plain": [
       "0.7931323283082077"
      ]
     },
     "execution_count": 10,
     "metadata": {},
     "output_type": "execute_result"
    }
   ],
   "source": [
    "# current predictions are made on training data only\n",
    "valid_df['label'] = valid_df['label'].astype('int')\n",
    "val_preds = model_lgbm.predict(valid_df.loc[:, train_df.columns != 'label'])\n",
    "acc_valid_lgbm = accuracy_score(y_true=valid_df['label'].astype('int'), y_pred=val_preds)\n",
    "# acc_score = \n",
    "acc_valid_lgbm"
   ]
  }
 ],
 "metadata": {
  "kernelspec": {
   "display_name": "Python 3 (ipykernel)",
   "language": "python",
   "name": "python3"
  },
  "language_info": {
   "codemirror_mode": {
    "name": "ipython",
    "version": 3
   },
   "file_extension": ".py",
   "mimetype": "text/x-python",
   "name": "python",
   "nbconvert_exporter": "python",
   "pygments_lexer": "ipython3",
   "version": "3.9.7"
  }
 },
 "nbformat": 4,
 "nbformat_minor": 5
}
