{
 "cells": [
  {
   "cell_type": "code",
   "execution_count": 18,
   "id": "8abe9dd1-f5a7-4e74-ae93-c1a78e54f0ee",
   "metadata": {},
   "outputs": [],
   "source": [
    "import pandas as pd\n",
    "import numpy as np\n",
    "\n",
    "from itertools import groupby\n",
    "from sklearn.preprocessing import MultiLabelBinarizer\n",
    "\n",
    "import json\n",
    "import glob\n",
    "import matplotlib.pyplot as plt"
   ]
  },
  {
   "cell_type": "code",
   "execution_count": 2,
   "id": "566202e4-cbdc-43ba-94bd-7a34fe5cfee8",
   "metadata": {},
   "outputs": [],
   "source": [
    "def openfile(data):\n",
    "    if data == \"writers\":\n",
    "        with open(\"writing.json\") as f:\n",
    "            writers = f.read()\n",
    "        \n",
    "        return json.loads(writers)\n",
    "    elif data == \"directors\":\n",
    "        with open(\"directing.json\") as f:\n",
    "            directors = f.read()\n",
    "        \n",
    "        return json.loads(directors)    \n",
    "    else:\n",
    "        return NotImplemented    "
   ]
  },
  {
   "cell_type": "code",
   "execution_count": 8,
   "id": "fc2cfb02-474a-4ea0-a211-62a9a8bb2745",
   "metadata": {},
   "outputs": [
    {
     "name": "stdout",
     "output_type": "stream",
     "text": [
      "Found files: train-8.csv, train-2.csv, train-7.csv, train-5.csv, train-3.csv, train-4.csv, train-1.csv, train-6.csv\n"
     ]
    }
   ],
   "source": [
    "all_files = glob.glob(\"train*.csv\")\n",
    "\n",
    "print(f\"Found files: {', '.join(all_files)}\")\n",
    "\n",
    "li = []\n",
    "\n",
    "for filename in all_files:\n",
    "    df = pd.read_csv(filename, index_col=None, header=0)\n",
    "    li.append(df)\n",
    "\n",
    "df = pd.concat(li, axis=0, ignore_index=True).drop(\"Unnamed: 0\", axis = 1)"
   ]
  },
  {
   "cell_type": "code",
   "execution_count": 10,
   "id": "f0b075ea-dc49-47e2-8f5b-13cf73413387",
   "metadata": {},
   "outputs": [
    {
     "name": "stdout",
     "output_type": "stream",
     "text": [
      "<class 'pandas.core.frame.DataFrame'>\n",
      "RangeIndex: 7959 entries, 0 to 7958\n",
      "Data columns (total 8 columns):\n",
      " #   Column          Non-Null Count  Dtype  \n",
      "---  ------          --------------  -----  \n",
      " 0   tconst          7959 non-null   object \n",
      " 1   primaryTitle    7959 non-null   object \n",
      " 2   originalTitle   3971 non-null   object \n",
      " 3   startYear       7173 non-null   object \n",
      " 4   endYear         786 non-null    object \n",
      " 5   runtimeMinutes  7946 non-null   object \n",
      " 6   numVotes        7169 non-null   float64\n",
      " 7   label           7959 non-null   bool   \n",
      "dtypes: bool(1), float64(1), object(6)\n",
      "memory usage: 443.2+ KB\n"
     ]
    }
   ],
   "source": [
    "df = df.replace(\"\\\\N\", np.nan)\n",
    "df.info()"
   ]
  },
  {
   "cell_type": "code",
   "execution_count": 11,
   "id": "a0ce23fb-2342-4b79-a795-dd36aafeae18",
   "metadata": {},
   "outputs": [],
   "source": [
    "def merge_start_end_year(df_):\n",
    "    df_['startYear'].fillna(df_['endYear'], inplace=True)\n",
    "    return df_"
   ]
  },
  {
   "cell_type": "code",
   "execution_count": 16,
   "id": "bc35a423-a7d3-4715-92f0-e58415ab20e6",
   "metadata": {},
   "outputs": [],
   "source": [
    "# preprocess some of the data\n",
    "df = merge_start_end_year(df)\n",
    "df[\"primaryTitle\"] = df[\"primaryTitle\"].str.lower()\\\n",
    "                                       .str.normalize('NFKD')\\\n",
    "                                       .str.encode('ascii', errors='ignore')\\\n",
    "                                       .str.decode('utf-8')\\\n",
    "                                       .str.replace(\" \", \"_\", regex=True)\\\n",
    "                                       .str.replace(\"\\W\", \"\", regex=True)"
   ]
  },
  {
   "cell_type": "code",
   "execution_count": 17,
   "id": "9f6e47f1-dcbd-4179-b5da-0ea4e0bb1d51",
   "metadata": {},
   "outputs": [
    {
     "name": "stdout",
     "output_type": "stream",
     "text": [
      "<class 'pandas.core.frame.DataFrame'>\n",
      "RangeIndex: 7959 entries, 0 to 7958\n",
      "Data columns (total 8 columns):\n",
      " #   Column          Non-Null Count  Dtype  \n",
      "---  ------          --------------  -----  \n",
      " 0   tconst          7959 non-null   object \n",
      " 1   primaryTitle    7959 non-null   object \n",
      " 2   originalTitle   3971 non-null   object \n",
      " 3   startYear       7959 non-null   object \n",
      " 4   endYear         786 non-null    object \n",
      " 5   runtimeMinutes  7946 non-null   object \n",
      " 6   numVotes        7169 non-null   float64\n",
      " 7   label           7959 non-null   bool   \n",
      "dtypes: bool(1), float64(1), object(6)\n",
      "memory usage: 443.2+ KB\n"
     ]
    }
   ],
   "source": [
    "df.info()"
   ]
  },
  {
   "cell_type": "code",
   "execution_count": 28,
   "id": "46ae22a0-a5ac-4d0c-9381-4a5097a0b669",
   "metadata": {},
   "outputs": [
    {
     "data": {
      "image/png": "[encoded data removed]",
      "text/plain": [
       "<Figure size 432x288 with 1 Axes>"
      ]
     },
     "metadata": {
      "needs_background": "light"
     },
     "output_type": "display_data"
    },
    {
     "data": {
      "image/png": "[encoded data removed]",
      "text/plain": [
       "<Figure size 432x288 with 1 Axes>"
      ]
     },
     "metadata": {
      "needs_background": "light"
     },
     "output_type": "display_data"
    },
    {
     "data": {
      "text/plain": [
       "<AxesSubplot:>"
      ]
     },
     "execution_count": 28,
     "metadata": {},
     "output_type": "execute_result"
    },
    {
     "data": {
      "image/png": "[encoded data removed]",
      "text/plain": [
       "<Figure size 432x288 with 1 Axes>"
      ]
     },
     "metadata": {
      "needs_background": "light"
     },
     "output_type": "display_data"
    }
   ],
   "source": [
    "df['startYear'] = df['startYear'].astype(int)\n",
    "df['runtimeMinutes'] = df['runtimeMinutes'].astype(float)\n",
    "\n",
    "df.boxplot(column=['numVotes'])\n",
    "plt.show()\n",
    "df.boxplot(column=['startYear'])\n",
    "plt.show()\n",
    "df.boxplot(column=['runtimeMinutes'])"
   ]
  },
  {
   "cell_type": "code",
   "execution_count": null,
   "id": "b22b8343-cb1c-4cb0-b0a4-4e906c219065",
   "metadata": {},
   "outputs": [],
   "source": []
  }
 ],
 "metadata": {
  "kernelspec": {
   "display_name": "Python 3 (ipykernel)",
   "language": "python",
   "name": "python3"
  },
  "language_info": {
   "codemirror_mode": {
    "name": "ipython",
    "version": 3
   },
   "file_extension": ".py",
   "mimetype": "text/x-python",
   "name": "python",
   "nbconvert_exporter": "python",
   "pygments_lexer": "ipython3",
   "version": "3.9.7"
  }
 },
 "nbformat": 4,
 "nbformat_minor": 5
}
