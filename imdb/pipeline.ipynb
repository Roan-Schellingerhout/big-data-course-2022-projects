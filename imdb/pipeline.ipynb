{
 "cells": [
  {
   "cell_type": "markdown",
   "id": "de2eb797-3622-422f-97df-95f6f4f454fb",
   "metadata": {},
   "source": [
    "# Import necessary libraries"
   ]
  },
  {
   "cell_type": "code",
   "execution_count": 1,
   "id": "4c8c3a4e-d01b-4874-908d-ec2d1cf22b6e",
   "metadata": {},
   "outputs": [],
   "source": [
    "import json\n",
    "import numpy as np\n",
    "import pandas as pd\n",
    "from itertools import groupby\n",
    "\n",
    "from py_files.writer_director_to_one_hot import writer_director_to_one_hot\n",
    "from py_files.add_merge_begin_end_year import merge_start_end_year\n",
    "from py_files.load_box_office_data import load_and_aggregate_box_office\n",
    "from py_files.add_remake_feature import create_remake_column\n",
    "from py_files.add_langoriginaltitle_feature import add_language_of_original_title\n",
    "from py_files.add_ENvsNonEN_feature import add_english_title_or_not"
   ]
  },
  {
   "cell_type": "markdown",
   "id": "e59816f3-b00d-4d73-bf8c-401c9a528c99",
   "metadata": {},
   "source": [
    "# Loading the data"
   ]
  },
  {
   "cell_type": "code",
   "execution_count": 2,
   "id": "0f7dcbe7-3de0-4f9d-b1f9-23a235d489cd",
   "metadata": {},
   "outputs": [
    {
     "name": "stdout",
     "output_type": "stream",
     "text": [
      "Found files: train-8.csv, train-2.csv, train-7.csv, train-5.csv, train-3.csv, train-4.csv, train-1.csv, train-6.csv\n"
     ]
    }
   ],
   "source": [
    "from py_files.load_original_data import load_original_data\n",
    "\n",
    "df_original = load_original_data()"
   ]
  },
  {
   "cell_type": "markdown",
   "id": "d8291b2d-ad58-4477-9e9d-8cf717f95f0f",
   "metadata": {},
   "source": [
    "# Preprocessing of original columns"
   ]
  },
  {
   "cell_type": "code",
   "execution_count": 3,
   "id": "bae9711c-aa48-485b-9093-f142059703d8",
   "metadata": {},
   "outputs": [
    {
     "name": "stdout",
     "output_type": "stream",
     "text": [
      "<class 'pandas.core.frame.DataFrame'>\n",
      "RangeIndex: 7959 entries, 0 to 7958\n",
      "Data columns (total 10 columns):\n",
      " #   Column                 Non-Null Count  Dtype  \n",
      "---  ------                 --------------  -----  \n",
      " 0   tconst                 7959 non-null   object \n",
      " 1   primaryTitle           7959 non-null   object \n",
      " 2   originalTitle          3971 non-null   object \n",
      " 3   startYear              7173 non-null   object \n",
      " 4   endYear                786 non-null    object \n",
      " 5   runtimeMinutes         7946 non-null   float64\n",
      " 6   numVotes               7169 non-null   float64\n",
      " 7   label                  7959 non-null   bool   \n",
      " 8   primaryTitleFormatted  7959 non-null   object \n",
      " 9   Year                   7959 non-null   int64  \n",
      "dtypes: bool(1), float64(2), int64(1), object(6)\n",
      "memory usage: 567.5+ KB\n"
     ]
    }
   ],
   "source": [
    "# copy the dataframe so we leave the original untouched\n",
    "df_preprocessed = df_original.copy(deep=True)\n",
    "\n",
    "# start the preprocessing\n",
    "df_preprocessed = df_original.replace(\"\\\\N\", np.nan)\n",
    "df_preprocessed[\"primaryTitleFormatted\"] = df_preprocessed[\"primaryTitle\"].str.lower()\\\n",
    "                                                                          .str.normalize('NFKD')\\\n",
    "                                                                          .str.encode('ascii', errors='ignore')\\\n",
    "                                                                          .str.decode('utf-8')\\\n",
    "                                                                          .str.replace(\" \", \"_\", regex=True)\\\n",
    "                                                                          .str.replace(\"\\W\", \"\", regex=True)\n",
    "\n",
    "# merge endYear into beginYear when beginYear is not available --> rename Year\n",
    "df_preprocessed = merge_start_end_year(df_preprocessed)\n",
    "\n",
    "# set the datatypes of the dataframe correctly\n",
    "df_preprocessed['Year'] = df_preprocessed['Year'].astype(int)\n",
    "df_preprocessed['runtimeMinutes'] = df_preprocessed['runtimeMinutes'].astype(float)\n",
    "\n",
    "df_preprocessed.info()"
   ]
  },
  {
   "cell_type": "markdown",
   "id": "c13628a1-7394-4a0f-bf00-8ea7ce5f8a26",
   "metadata": {},
   "source": [
    "## Preprocessing of exogenous data"
   ]
  },
  {
   "cell_type": "markdown",
   "id": "0f3a5e9f-6bbc-4094-b30d-79eedc0e9613",
   "metadata": {},
   "source": [
    "### Oscar data"
   ]
  },
  {
   "cell_type": "code",
   "execution_count": 4,
   "id": "d4ec5f29-a1a8-4dbe-9d38-ea74c40891af",
   "metadata": {},
   "outputs": [],
   "source": [
    "oscars = pd.read_csv(\"additional_data/oscars.csv\")\n",
    "\n",
    "oscars[\"film\"] = oscars[\"film\"].str.lower()\\\n",
    "                               .str.normalize('NFKD')\\\n",
    "                               .str.encode('ascii', errors='ignore')\\\n",
    "                               .str.decode('utf-8')\\\n",
    "                               .str.replace(\" \", \"_\", regex=True)\\\n",
    "                               .str.replace(\"\\W\", \"\", regex=True)\n",
    "\n",
    "# Counting oscar nominations and wins per movie\n",
    "oscar_noms = pd.merge(df_preprocessed, oscars, left_on = \"primaryTitleFormatted\", right_on = \"film\").groupby(\"tconst\")[\"winner\"].count()\n",
    "oscar_wins = pd.merge(df_preprocessed, oscars, left_on = \"primaryTitleFormatted\", right_on = \"film\").groupby(\"tconst\")[\"winner\"].sum()"
   ]
  },
  {
   "cell_type": "markdown",
   "id": "c91f1da1-6a79-4b57-9eb3-87796ce460e2",
   "metadata": {},
   "source": [
    "### Writer and Director data"
   ]
  },
  {
   "cell_type": "code",
   "execution_count": 5,
   "id": "3549ed24-a788-4a2d-80b3-1e26ebbefd9d",
   "metadata": {},
   "outputs": [],
   "source": [
    "# Find writers and directors per movie and combine the two\n",
    "written_and_directed = (writer_director_to_one_hot(\"writers\") + writer_director_to_one_hot(\"directors\")).fillna(0).astype(int).loc[df_preprocessed['tconst']]"
   ]
  },
  {
   "cell_type": "markdown",
   "id": "6bb61c28-a98e-49a3-ae69-6a505c193f84",
   "metadata": {},
   "source": [
    "### TMDB data"
   ]
  },
  {
   "cell_type": "code",
   "execution_count": null,
   "id": "e1eb9dfd-13ae-4ecf-8a1e-90236bf4767e",
   "metadata": {},
   "outputs": [],
   "source": []
  },
  {
   "cell_type": "markdown",
   "id": "82526bd3-364f-4db2-919f-1e9a9c90ef31",
   "metadata": {},
   "source": [
    "### Box Office data"
   ]
  },
  {
   "cell_type": "code",
   "execution_count": 6,
   "id": "69ab0f07-c114-4741-8ba1-5b162676582f",
   "metadata": {},
   "outputs": [
    {
     "name": "stdout",
     "output_type": "stream",
     "text": [
      "Found files: box_office_mojo/2014.csv, box_office_mojo/1982.csv, box_office_mojo/1979.csv, box_office_mojo/1980.csv, box_office_mojo/2008.csv, box_office_mojo/1997.csv, box_office_mojo/2015.csv, box_office_mojo/1986.csv, box_office_mojo/2010.csv, box_office_mojo/1978.csv, box_office_mojo/1996.csv, box_office_mojo/2011.csv, box_office_mojo/1998.csv, box_office_mojo/2009.csv, box_office_mojo/2005.csv, box_office_mojo/2018.csv, box_office_mojo/1977.csv, box_office_mojo/1981.csv, box_office_mojo/1994.csv, box_office_mojo/2013.csv, box_office_mojo/2002.csv, box_office_mojo/2006.csv, box_office_mojo/1991.csv, box_office_mojo/1985.csv, box_office_mojo/2017.csv, box_office_mojo/1984.csv, box_office_mojo/1995.csv, box_office_mojo/2016.csv, box_office_mojo/2001.csv, box_office_mojo/2007.csv, box_office_mojo/1989.csv, box_office_mojo/1988.csv, box_office_mojo/2012.csv, box_office_mojo/2000.csv, box_office_mojo/1990.csv, box_office_mojo/2004.csv, box_office_mojo/2021.csv, box_office_mojo/2022.csv, box_office_mojo/2020.csv, box_office_mojo/1999.csv, box_office_mojo/2019.csv, box_office_mojo/1983.csv, box_office_mojo/2003.csv, box_office_mojo/1993.csv, box_office_mojo/1987.csv, box_office_mojo/1992.csv\n"
     ]
    }
   ],
   "source": [
    "df_box_office_mojo = load_and_aggregate_box_office()\n",
    "\n",
    "# process the 'release group' (read movie title) in the same way as the formatted title\n",
    "df_box_office_mojo[\"Release Group\"] = df_box_office_mojo[\"Release Group\"].str.lower()\\\n",
    "                                       .str.normalize('NFKD')\\\n",
    "                                       .str.encode('ascii', errors='ignore')\\\n",
    "                                       .str.decode('utf-8')\\\n",
    "                                       .str.replace(\" \", \"_\", regex=True)\\\n",
    "                                       .str.replace(\"\\W\", \"\", regex=True)\n",
    "df_box_office_mojo.drop(['%', '%.1'], axis=1, inplace=True)"
   ]
  },
  {
   "cell_type": "markdown",
   "id": "a2446b69-5867-4d66-9df7-03da9d2559d4",
   "metadata": {},
   "source": [
    "# Adding of exogenous columns"
   ]
  },
  {
   "cell_type": "code",
   "execution_count": 42,
   "id": "0b46bee7-f2ac-4c41-ba16-8f62ae993999",
   "metadata": {},
   "outputs": [
    {
     "name": "stdout",
     "output_type": "stream",
     "text": [
      "<class 'pandas.core.frame.DataFrame'>\n",
      "Index: 7959 entries, tt0015224 to tt9900782\n",
      "Data columns (total 9 columns):\n",
      " #   Column                 Non-Null Count  Dtype  \n",
      "---  ------                 --------------  -----  \n",
      " 0   primaryTitle           7959 non-null   object \n",
      " 1   originalTitle          3971 non-null   object \n",
      " 2   startYear              7173 non-null   object \n",
      " 3   endYear                786 non-null    object \n",
      " 4   runtimeMinutes         7946 non-null   float64\n",
      " 5   numVotes               7169 non-null   float64\n",
      " 6   label                  7959 non-null   bool   \n",
      " 7   primaryTitleFormatted  7959 non-null   object \n",
      " 8   Year                   7959 non-null   int64  \n",
      "dtypes: bool(1), float64(2), int64(1), object(5)\n",
      "memory usage: 567.4+ KB\n"
     ]
    }
   ],
   "source": [
    "df_incl_exog = df_preprocessed.copy(deep=True)\n",
    "df_incl_exog = df_incl_exog.rename({\"tconst\" : \"id\"}, axis = 1).set_index(\"id\")\n",
    "df_incl_exog.info()"
   ]
  },
  {
   "cell_type": "markdown",
   "id": "c3dae00e-a724-4937-ab4b-b8f1c0057279",
   "metadata": {},
   "source": [
    "## add oscar data"
   ]
  },
  {
   "cell_type": "code",
   "execution_count": 43,
   "id": "739d5c22-fda8-4037-a984-c089c5e0c56d",
   "metadata": {},
   "outputs": [],
   "source": [
    "df_incl_exog[\"oscar_noms\"] = oscar_noms\n",
    "df_incl_exog[\"oscar_wins\"] = oscar_wins"
   ]
  },
  {
   "cell_type": "markdown",
   "id": "78de6518-83f1-4d3d-9d98-56066a368107",
   "metadata": {},
   "source": [
    "## add writers and directors"
   ]
  },
  {
   "cell_type": "code",
   "execution_count": 41,
   "id": "429ac22b-63aa-4bc5-b9f5-ee0615a13ade",
   "metadata": {},
   "outputs": [],
   "source": [
    "df_incl_exog = pd.concat([df_incl_exog.T, written_and_directed.T]).T"
   ]
  },
  {
   "cell_type": "markdown",
   "id": "e6caad7a-65a6-42e5-9d56-57550539430e",
   "metadata": {},
   "source": [
    "## add mojo box office"
   ]
  },
  {
   "cell_type": "code",
   "execution_count": 45,
   "id": "f667716a-0aa2-494c-98af-bfdc45ee4e70",
   "metadata": {},
   "outputs": [
    {
     "name": "stdout",
     "output_type": "stream",
     "text": [
      "<class 'pandas.core.frame.DataFrame'>\n",
      "Index: 7959 entries, tt0015224 to tt9900782\n",
      "Columns: 17923 entries, primaryTitle to Foreign\n",
      "dtypes: float64(1), object(17922)\n",
      "memory usage: 1.1+ GB\n"
     ]
    }
   ],
   "source": [
    "df_incl_exog = df_incl_exog.reset_index().merge(df_box_office_mojo, left_on=['primaryTitleFormatted', 'Year'], right_on=['Release Group', 'year'], how=\"left\").set_index('index')\n",
    "df_incl_exog.drop(['Release Group', 'year'], axis=1, inplace=True)\n",
    "\n",
    "df_incl_exog.loc[df_incl_exog['Worldwide'] == '-', 'Worldwide'] = np.nan\n",
    "df_incl_exog.loc[df_incl_exog['Domestic'] == '-', 'Domestic'] = np.nan\n",
    "df_incl_exog.loc[df_incl_exog['Foreign'] == '-', 'Foreign'] = np.nan\n",
    "df_incl_exog.loc[df_incl_exog['Worldwide'].notnull(), 'Worldwide'] = df_incl_exog.loc[df_incl_exog['Worldwide'].notnull(), 'Worldwide'].apply(lambda x: float(x.replace('$', '').replace(',', '')))\n",
    "df_incl_exog.loc[df_incl_exog['Domestic'].notnull(), 'Domestic'] = df_incl_exog.loc[df_incl_exog['Domestic'].notnull(), 'Domestic'].apply(lambda x: float(x.replace('$', '').replace(',', '')))\n",
    "df_incl_exog.loc[df_incl_exog['Foreign'].notnull(), 'Foreign'] = df_incl_exog.loc[df_incl_exog['Foreign'].notnull(), 'Foreign'].apply(lambda x: float(x.replace('$', '').replace(',', '')))"
   ]
  },
  {
   "cell_type": "markdown",
   "id": "0df971c9-ef59-4c29-9ab2-99396a2b2376",
   "metadata": {},
   "source": [
    "## add remake column"
   ]
  },
  {
   "cell_type": "code",
   "execution_count": 46,
   "id": "38866dfb-4664-4e21-91db-a15c00210d83",
   "metadata": {},
   "outputs": [
    {
     "name": "stdout",
     "output_type": "stream",
     "text": [
      "<class 'pandas.core.frame.DataFrame'>\n",
      "Index: 7959 entries, tt0015224 to tt9900782\n",
      "Columns: 17924 entries, primaryTitle to hasRemake\n",
      "dtypes: bool(1), float64(1), object(17922)\n",
      "memory usage: 1.1+ GB\n"
     ]
    }
   ],
   "source": [
    "df_incl_exog = create_remake_column(df_incl_exog)"
   ]
  },
  {
   "cell_type": "markdown",
   "id": "0536fd42-e58b-4f89-a3d6-f6367c7ace74",
   "metadata": {},
   "source": [
    "## add title language"
   ]
  },
  {
   "cell_type": "code",
   "execution_count": 47,
   "id": "433f4db5-5b7d-4cca-b78e-fc58a679dfbe",
   "metadata": {},
   "outputs": [
    {
     "name": "stdout",
     "output_type": "stream",
     "text": [
      "id\n",
      "tt0015224    no\n",
      "tt0015864    en\n",
      "tt0016029    en\n",
      "tt0021309    fr\n",
      "tt0022395    en\n",
      "             ..\n",
      "tt9415552    af\n",
      "tt9484998    sv\n",
      "tt9664108    de\n",
      "tt9808510    it\n",
      "tt9900782    sw\n",
      "Name: title_language, Length: 7959, dtype: object\n",
      "                   primaryTitle       originalTitle startYear endYear  \\\n",
      "index                                                                   \n",
      "tt0015224             Peter Pan                 NaN      1924     NaN   \n",
      "tt0015864         The Gold Rush                 NaN      1925     NaN   \n",
      "tt0016029    The Little Colonel                 NaN      1935     NaN   \n",
      "tt0021309  The Story of the Fox  Le roman de Renard      1937     NaN   \n",
      "tt0022395         The Skin Game                 NaN      1931     NaN   \n",
      "...                         ...                 ...       ...     ...   \n",
      "tt9415552               Tankers                 NaN      2018     NaN   \n",
      "tt9484998          Palm Springs                 NaN      2020     NaN   \n",
      "tt9664108              Voyagers            Voyagers      2021     NaN   \n",
      "tt9808510                Vellam              Vellam      2021     NaN   \n",
      "tt9900782                Kaithi              Kaithi      2019     NaN   \n",
      "\n",
      "          runtimeMinutes  numVotes  label primaryTitleFormatted  Year  \\\n",
      "index                                                                   \n",
      "tt0015224          105.0    1042.0   True             peter_pan  1924   \n",
      "tt0015864           95.0  107475.0   True         the_gold_rush  1925   \n",
      "tt0016029           81.0    1646.0   True    the_little_colonel  1935   \n",
      "tt0021309           63.0       NaN   True  the_story_of_the_fox  1937   \n",
      "tt0022395           85.0       NaN  False         the_skin_game  1931   \n",
      "...                  ...       ...    ...                   ...   ...   \n",
      "tt9415552           90.0    1705.0  False               tankers  2018   \n",
      "tt9484998           90.0  137884.0   True          palm_springs  2020   \n",
      "tt9664108          108.0   15793.0  False              voyagers  2021   \n",
      "tt9808510          154.0    1731.0   True                vellam  2021   \n",
      "tt9900782          145.0       NaN   True                kaithi  2019   \n",
      "\n",
      "          oscar_noms  ... nm9958353 nm9980769 nm9985316 nm9985837 Rank  \\\n",
      "index                 ...                                                \n",
      "tt0015224        NaN  ...         0         0         0         0  NaN   \n",
      "tt0015864        2.0  ...         0         0         0         0  NaN   \n",
      "tt0016029        NaN  ...         0         0         0         0  NaN   \n",
      "tt0021309        NaN  ...         0         0         0         0  NaN   \n",
      "tt0022395        NaN  ...         0         0         0         0  NaN   \n",
      "...              ...  ...       ...       ...       ...       ...  ...   \n",
      "tt9415552        NaN  ...         0         0         0         0  NaN   \n",
      "tt9484998        NaN  ...         0         0         0         0  NaN   \n",
      "tt9664108        NaN  ...         0         0         0         0  NaN   \n",
      "tt9808510        NaN  ...         0         0         0         0  NaN   \n",
      "tt9900782        NaN  ...         0         0         0         0  NaN   \n",
      "\n",
      "          Worldwide Domestic Foreign hasRemake title_language  \n",
      "index                                                          \n",
      "tt0015224       NaN      NaN     NaN     False             no  \n",
      "tt0015864       NaN      NaN     NaN     False             en  \n",
      "tt0016029       NaN      NaN     NaN     False             en  \n",
      "tt0021309       NaN      NaN     NaN     False             fr  \n",
      "tt0022395       NaN      NaN     NaN     False             en  \n",
      "...             ...      ...     ...       ...            ...  \n",
      "tt9415552       NaN      NaN     NaN     False             af  \n",
      "tt9484998       NaN      NaN     NaN     False             sv  \n",
      "tt9664108       NaN      NaN     NaN     False             de  \n",
      "tt9808510       NaN      NaN     NaN     False             it  \n",
      "tt9900782       NaN      NaN     NaN     False             sw  \n",
      "\n",
      "[7959 rows x 17925 columns]\n"
     ]
    }
   ],
   "source": [
    "# # add the language of the original title, currently commented for training data usage and not wait 15 min every time\n",
    "# df_incl_exog = add_language_of_original_title(df_incl_exog)\n",
    "\n",
    "df_added_lang = pd.read_csv('additional_data/df_added_lang.csv', index_col=0)\n",
    "df_added_lang = df_added_lang.rename({\"tconst\" : \"id\"}, axis = 1).set_index(\"id\")\n",
    "df_incl_exog = df_incl_exog.join(df_added_lang['title_language'])"
   ]
  },
  {
   "cell_type": "markdown",
   "id": "f10e08e1-082f-4c4d-9226-96037e800e78",
   "metadata": {},
   "source": [
    "## add whether title is English or not"
   ]
  },
  {
   "cell_type": "code",
   "execution_count": 48,
   "id": "dbbb9f93-740b-4665-8603-a9c01ae72d5b",
   "metadata": {},
   "outputs": [
    {
     "name": "stdout",
     "output_type": "stream",
     "text": [
      "<class 'pandas.core.frame.DataFrame'>\n",
      "Index: 7959 entries, tt0015224 to tt9900782\n",
      "Columns: 17926 entries, primaryTitle to isEN\n",
      "dtypes: bool(2), float64(1), object(17923)\n",
      "memory usage: 1.1+ GB\n"
     ]
    }
   ],
   "source": [
    "df_incl_exog = add_english_title_or_not(df_incl_exog)\n",
    "df_incl_exog.info()"
   ]
  },
  {
   "cell_type": "markdown",
   "id": "6bd196bd-d145-4a63-a431-219af524380e",
   "metadata": {},
   "source": [
    "# Selecting data for predicting"
   ]
  },
  {
   "cell_type": "code",
   "execution_count": null,
   "id": "1438a851-1415-4118-9e35-a1fe5e4c59d9",
   "metadata": {},
   "outputs": [],
   "source": []
  },
  {
   "cell_type": "markdown",
   "id": "c9a3e00b-bc50-485b-8ab0-00183a6bb9d8",
   "metadata": {},
   "source": [
    "df_added_dataclassifier"
   ]
  },
  {
   "cell_type": "code",
   "execution_count": null,
   "id": "28fc0ce7-1f2a-49b7-8643-e666c23fda45",
   "metadata": {},
   "outputs": [],
   "source": []
  },
  {
   "cell_type": "markdown",
   "id": "b01c43d4-36ac-4082-a627-22f2f6e2ef5b",
   "metadata": {},
   "source": [
    "# Evaluating classifier"
   ]
  },
  {
   "cell_type": "code",
   "execution_count": null,
   "id": "7b3cfad8-1582-4616-9bf3-677c07c39df6",
   "metadata": {},
   "outputs": [],
   "source": []
  },
  {
   "cell_type": "markdown",
   "id": "4ca9e8f9-2472-44bb-a561-16b23cfe4c63",
   "metadata": {},
   "source": [
    "# Predicting"
   ]
  },
  {
   "cell_type": "code",
   "execution_count": null,
   "id": "cb8259cc-1bc6-4447-8d9e-7cf00d9bc89c",
   "metadata": {},
   "outputs": [],
   "source": []
  }
 ],
 "metadata": {
  "kernelspec": {
   "display_name": "Python 3 (ipykernel)",
   "language": "python",
   "name": "python3"
  },
  "language_info": {
   "codemirror_mode": {
    "name": "ipython",
    "version": 3
   },
   "file_extension": ".py",
   "mimetype": "text/x-python",
   "name": "python",
   "nbconvert_exporter": "python",
   "pygments_lexer": "ipython3",
   "version": "3.9.7"
  }
 },
 "nbformat": 4,
 "nbformat_minor": 5
}
