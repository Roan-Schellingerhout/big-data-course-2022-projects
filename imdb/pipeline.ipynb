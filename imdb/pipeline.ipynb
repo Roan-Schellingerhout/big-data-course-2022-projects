{
 "cells": [
  {
   "cell_type": "markdown",
   "id": "de2eb797-3622-422f-97df-95f6f4f454fb",
   "metadata": {},
   "source": [
    "# Loading the data"
   ]
  },
  {
   "cell_type": "code",
   "execution_count": 1,
   "id": "0f7dcbe7-3de0-4f9d-b1f9-23a235d489cd",
   "metadata": {},
   "outputs": [
    {
     "name": "stdout",
     "output_type": "stream",
     "text": [
      "Found files: train-8.csv, train-2.csv, train-7.csv, train-5.csv, train-3.csv, train-4.csv, train-1.csv, train-6.csv\n",
      "         tconst          primaryTitle       originalTitle startYear endYear  \\\n",
      "0     tt0015224             Peter Pan                 NaN      1924      \\N   \n",
      "1     tt0015864         The Gold Rush                 NaN      1925      \\N   \n",
      "2     tt0016029    The Little Colonel                 NaN      1935      \\N   \n",
      "3     tt0021309  The Story of the Fox  Le roman de Renard      1937      \\N   \n",
      "4     tt0022395         The Skin Game                 NaN      1931      \\N   \n",
      "...         ...                   ...                 ...       ...     ...   \n",
      "7954  tt9415552               Tankers                 NaN      2018      \\N   \n",
      "7955  tt9484998          Palm Springs                 NaN      2020      \\N   \n",
      "7956  tt9664108              Voyagers            Voyagers      2021      \\N   \n",
      "7957  tt9808510                Vellam              Vellam      2021      \\N   \n",
      "7958  tt9900782                Kaithi              Kaithi      2019      \\N   \n",
      "\n",
      "     runtimeMinutes  numVotes  label  \n",
      "0               105    1042.0   True  \n",
      "1                95  107475.0   True  \n",
      "2                81    1646.0   True  \n",
      "3                63       NaN   True  \n",
      "4                85       NaN  False  \n",
      "...             ...       ...    ...  \n",
      "7954             90    1705.0  False  \n",
      "7955             90  137884.0   True  \n",
      "7956            108   15793.0  False  \n",
      "7957            154    1731.0   True  \n",
      "7958            145       NaN   True  \n",
      "\n",
      "[7959 rows x 8 columns]\n"
     ]
    }
   ],
   "source": [
    "from py_files.load_original_data import load_original_data\n",
    "\n",
    "df_original = load_original_data()"
   ]
  },
  {
   "cell_type": "markdown",
   "id": "d8291b2d-ad58-4477-9e9d-8cf717f95f0f",
   "metadata": {},
   "source": [
    "# Preprocessing of original columns"
   ]
  },
  {
   "cell_type": "code",
   "execution_count": null,
   "id": "bae9711c-aa48-485b-9093-f142059703d8",
   "metadata": {},
   "outputs": [],
   "source": []
  },
  {
   "cell_type": "markdown",
   "id": "a2446b69-5867-4d66-9df7-03da9d2559d4",
   "metadata": {},
   "source": [
    "# Adding of exogenous columns"
   ]
  },
  {
   "cell_type": "code",
   "execution_count": null,
   "id": "0b46bee7-f2ac-4c41-ba16-8f62ae993999",
   "metadata": {},
   "outputs": [],
   "source": []
  },
  {
   "cell_type": "markdown",
   "id": "6bd196bd-d145-4a63-a431-219af524380e",
   "metadata": {},
   "source": [
    "# Selecting data for predicting"
   ]
  },
  {
   "cell_type": "code",
   "execution_count": null,
   "id": "1438a851-1415-4118-9e35-a1fe5e4c59d9",
   "metadata": {},
   "outputs": [],
   "source": []
  },
  {
   "cell_type": "markdown",
   "id": "c9a3e00b-bc50-485b-8ab0-00183a6bb9d8",
   "metadata": {},
   "source": [
    "# Train classifier"
   ]
  },
  {
   "cell_type": "code",
   "execution_count": null,
   "id": "28fc0ce7-1f2a-49b7-8643-e666c23fda45",
   "metadata": {},
   "outputs": [],
   "source": []
  },
  {
   "cell_type": "markdown",
   "id": "b01c43d4-36ac-4082-a627-22f2f6e2ef5b",
   "metadata": {},
   "source": [
    "# Evaluating classifier"
   ]
  },
  {
   "cell_type": "code",
   "execution_count": null,
   "id": "7b3cfad8-1582-4616-9bf3-677c07c39df6",
   "metadata": {},
   "outputs": [],
   "source": []
  },
  {
   "cell_type": "markdown",
   "id": "4ca9e8f9-2472-44bb-a561-16b23cfe4c63",
   "metadata": {},
   "source": [
    "# Predicting"
   ]
  },
  {
   "cell_type": "code",
   "execution_count": null,
   "id": "cb8259cc-1bc6-4447-8d9e-7cf00d9bc89c",
   "metadata": {},
   "outputs": [],
   "source": []
  }
 ],
 "metadata": {
  "kernelspec": {
   "display_name": "Python 3 (ipykernel)",
   "language": "python",
   "name": "python3"
  },
  "language_info": {
   "codemirror_mode": {
    "name": "ipython",
    "version": 3
   },
   "file_extension": ".py",
   "mimetype": "text/x-python",
   "name": "python",
   "nbconvert_exporter": "python",
   "pygments_lexer": "ipython3",
   "version": "3.9.7"
  }
 },
 "nbformat": 4,
 "nbformat_minor": 5
}
