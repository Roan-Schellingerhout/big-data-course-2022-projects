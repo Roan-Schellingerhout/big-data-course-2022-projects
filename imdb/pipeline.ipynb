{
 "cells": [
  {
   "cell_type": "markdown",
   "id": "0bdcd028",
   "metadata": {},
   "source": [
    "# Import necessary libraries"
   ]
  },
  {
   "cell_type": "code",
   "execution_count": 1,
   "id": "46564a52",
   "metadata": {},
   "outputs": [],
   "source": [
    "import json\n",
    "import ast\n",
    "import numpy as np\n",
    "import pandas as pd\n",
    "from itertools import groupby\n",
    "\n",
    "from py_files.writer_director_to_one_hot import writer_director_to_one_hot\n",
    "from py_files.add_merge_begin_end_year import merge_start_end_year\n",
    "from py_files.load_box_office_data import load_and_aggregate_box_office\n",
    "from py_files.add_remake_feature import create_remake_column\n",
    "from py_files.add_langoriginaltitle_feature import add_language_of_original_title\n",
    "from py_files.add_ENvsNonEN_feature import add_english_title_or_not\n",
    "from py_files.add_movie_genre_feature import add_movie_genre\n",
    "from py_files.df_processor_enrichment import df_processor_enrichment\n",
    "\n",
    "from py_files.df_model_prep import df_model_prep\n",
    "from py_files.d2v_embed import d2v_embed\n",
    "from sklearn.model_selection import train_test_split\n",
    "import lightgbm as lgb\n",
    "from sklearn.metrics import accuracy_score\n",
    "import math"
   ]
  },
  {
   "cell_type": "markdown",
   "id": "30846801",
   "metadata": {},
   "source": [
    "# Loading the data"
   ]
  },
  {
   "cell_type": "code",
   "execution_count": 2,
   "id": "029f2b4a",
   "metadata": {},
   "outputs": [
    {
     "name": "stdout",
     "output_type": "stream",
     "text": [
      "Found files: train-8.csv, train-2.csv, train-7.csv, train-5.csv, train-3.csv, train-4.csv, train-1.csv, train-6.csv\n"
     ]
    }
   ],
   "source": [
    "from py_files.load_original_data import load_original_data\n",
    "\n",
    "df_original = load_original_data()"
   ]
  },
  {
   "cell_type": "markdown",
   "id": "5441403b",
   "metadata": {},
   "source": [
    "# Preprocessing of original columns"
   ]
  },
  {
   "cell_type": "code",
   "execution_count": 3,
   "id": "ac582b61",
   "metadata": {},
   "outputs": [
    {
     "name": "stdout",
     "output_type": "stream",
     "text": [
      "<class 'pandas.core.frame.DataFrame'>\n",
      "RangeIndex: 7959 entries, 0 to 7958\n",
      "Data columns (total 10 columns):\n",
      " #   Column                 Non-Null Count  Dtype  \n",
      "---  ------                 --------------  -----  \n",
      " 0   tconst                 7959 non-null   object \n",
      " 1   primaryTitle           7959 non-null   object \n",
      " 2   originalTitle          3971 non-null   object \n",
      " 3   startYear              7173 non-null   object \n",
      " 4   endYear                786 non-null    object \n",
      " 5   runtimeMinutes         7946 non-null   float64\n",
      " 6   numVotes               7169 non-null   float64\n",
      " 7   label                  7959 non-null   bool   \n",
      " 8   primaryTitleFormatted  7959 non-null   object \n",
      " 9   Year                   7959 non-null   int64  \n",
      "dtypes: bool(1), float64(2), int64(1), object(6)\n",
      "memory usage: 567.5+ KB\n"
     ]
    }
   ],
   "source": [
    "# copy the dataframe so we leave the original untouched\n",
    "df_preprocessed = df_original.copy(deep=True)\n",
    "\n",
    "# start the preprocessing\n",
    "df_preprocessed = df_original.replace(\"\\\\N\", np.nan)\n",
    "df_preprocessed[\"primaryTitleFormatted\"] = df_preprocessed[\"primaryTitle\"].str.lower()\\\n",
    "                                                                          .str.normalize('NFKD')\\\n",
    "                                                                          .str.encode('ascii', errors='ignore')\\\n",
    "                                                                          .str.decode('utf-8')\\\n",
    "                                                                          .str.replace(\" \", \"_\", regex=True)\\\n",
    "                                                                          .str.replace(\"\\W\", \"\", regex=True)\n",
    "\n",
    "# merge endYear into beginYear when beginYear is not available --> rename Year\n",
    "df_preprocessed = merge_start_end_year(df_preprocessed)\n",
    "\n",
    "# set the datatypes of the dataframe correctly\n",
    "df_preprocessed['Year'] = df_preprocessed['Year'].astype(int)\n",
    "df_preprocessed['runtimeMinutes'] = df_preprocessed['runtimeMinutes'].astype(float)\n",
    "\n",
    "df_preprocessed.info()"
   ]
  },
  {
   "cell_type": "markdown",
   "id": "10accc40",
   "metadata": {},
   "source": [
    "## Preprocessing of exogenous data"
   ]
  },
  {
   "cell_type": "markdown",
   "id": "04c941b9",
   "metadata": {},
   "source": [
    "### Oscar data"
   ]
  },
  {
   "cell_type": "code",
   "execution_count": 4,
   "id": "743cc3e5",
   "metadata": {},
   "outputs": [],
   "source": [
    "oscars = pd.read_csv(\"additional_data/oscars.csv\")\n",
    "\n",
    "oscars[\"film\"] = oscars[\"film\"].str.lower()\\\n",
    "                               .str.normalize('NFKD')\\\n",
    "                               .str.encode('ascii', errors='ignore')\\\n",
    "                               .str.decode('utf-8')\\\n",
    "                               .str.replace(\" \", \"_\", regex=True)\\\n",
    "                               .str.replace(\"\\W\", \"\", regex=True)\n",
    "\n",
    "# Counting oscar nominations and wins per movie\n",
    "oscar_noms = pd.merge(df_preprocessed, oscars, left_on = \"primaryTitleFormatted\", right_on = \"film\").groupby(\"tconst\")[\"winner\"].count()\n",
    "oscar_wins = pd.merge(df_preprocessed, oscars, left_on = \"primaryTitleFormatted\", right_on = \"film\").groupby(\"tconst\")[\"winner\"].sum()"
   ]
  },
  {
   "cell_type": "code",
   "execution_count": null,
   "id": "8f90d168",
   "metadata": {},
   "outputs": [],
   "source": []
  },
  {
   "cell_type": "code",
   "execution_count": 6,
   "id": "0c5d880b",
   "metadata": {},
   "outputs": [],
   "source": [
    "razzies = pd.read_csv(\"additional_data/Razzies.csv\")\n",
    "\n",
    "razzies[\"moviename\"] = razzies[\"moviename\"].str.lower()\\\n",
    "                               .str.normalize('NFKD')\\\n",
    "                               .str.encode('ascii', errors='ignore')\\\n",
    "                               .str.decode('utf-8')\\\n",
    "                               .str.replace(\" \", \"_\", regex=True)\\\n",
    "                               .str.replace(\"\\W\", \"\", regex=True)\n",
    "\n",
    "# Counting oscar nominations and wins per movie\n",
    "razzie_noms = pd.merge(df_preprocessed, razzies, left_on = \"primaryTitleFormatted\", right_on = \"moviename\").groupby(\"tconst\")[\"Wins\"].count()\n",
    "razzie_wins = pd.merge(df_preprocessed, razzies, left_on = \"primaryTitleFormatted\", right_on = \"moviename\").groupby(\"tconst\")[\"Wins\"].sum()"
   ]
  },
  {
   "cell_type": "markdown",
   "id": "84621307",
   "metadata": {},
   "source": [
    "### Writer and Director data"
   ]
  },
  {
   "cell_type": "code",
   "execution_count": 7,
   "id": "fbde3cc9",
   "metadata": {},
   "outputs": [],
   "source": [
    "# writers = writer_director_to_one_hot(\"writers\")\n",
    "# directors = writer_director_to_one_hot(\"directors\")\n",
    "# written_and_directed = writers.add(directors, fill_value=0).fillna(0).astype(int).loc[df_preprocessed[\"tconst\"]]"
   ]
  },
  {
   "cell_type": "markdown",
   "id": "bb8ac1c9",
   "metadata": {},
   "source": [
    "### TMDB data"
   ]
  },
  {
   "cell_type": "code",
   "execution_count": 8,
   "id": "bed9aa6f",
   "metadata": {},
   "outputs": [],
   "source": [
    "df_TMDB = pd.read_csv(\"additional_data/TMDB.csv\")[[\"budget\", \"genres\", \"imdb_id\", \n",
    "                                                   \"original_language\", \"overview\", \n",
    "                                                   \"popularity\", \"production_companies\", \n",
    "                                                   \"tagline\", \"Keywords\", \"revenue\"]]"
   ]
  },
  {
   "cell_type": "code",
   "execution_count": 9,
   "id": "84fdfd7d",
   "metadata": {},
   "outputs": [],
   "source": [
    "def dict_to_list(dictionary):\n",
    "    try:\n",
    "        d = ast.literal_eval(dictionary)\n",
    "    except ValueError:\n",
    "        return []\n",
    "    \n",
    "    return [i[\"name\"] for i in d]"
   ]
  },
  {
   "cell_type": "code",
   "execution_count": 10,
   "id": "92f7cc50",
   "metadata": {},
   "outputs": [],
   "source": [
    "df_TMDB[\"genres\"] = df_TMDB[\"genres\"].apply(lambda x: dict_to_list(x))\n",
    "df_TMDB[\"Keywords\"] = df_TMDB[\"Keywords\"].apply(lambda x: dict_to_list(x))\n",
    "df_TMDB[\"production_companies\"] = df_TMDB[\"production_companies\"].apply(lambda x: dict_to_list(x))\n",
    "df_TMDB = df_TMDB.set_index(\"imdb_id\")"
   ]
  },
  {
   "cell_type": "markdown",
   "id": "e1fdf414",
   "metadata": {},
   "source": [
    "### Metacritic data"
   ]
  },
  {
   "cell_type": "code",
   "execution_count": 11,
   "id": "d9b4e754",
   "metadata": {},
   "outputs": [],
   "source": [
    "df_meta = pd.read_csv(\"additional_data/Metacritic.csv\").drop(\"Unnamed: 0\", axis=1).set_index(\"movie\")\n",
    "df_meta[\"overview\"] = df_meta[\"overview\"].apply(lambda x: eval(x))\n",
    "df_meta[\"overview\"] = df_meta[\"overview\"].apply(lambda x: x[0] if x else str(x))\n",
    "df_meta.rename({'genres': 'genres_meta'}, axis=1, inplace=True)"
   ]
  },
  {
   "cell_type": "code",
   "execution_count": 12,
   "id": "c8b88664",
   "metadata": {},
   "outputs": [],
   "source": [
    "# Combine overviews\n",
    "overviews = pd.merge(df_TMDB[\"overview\"], df_meta[\"overview\"], left_index=True, right_index=True, how=\"outer\")\n",
    "overviews[\"overview\"] = overviews[\"overview_x\"].str.cat(overviews[\"overview_y\"], na_rep=\"\")\n",
    "overviews = overviews.drop([\"overview_x\", \"overview_y\"], axis=1)\n",
    "df_TMDB = df_TMDB.drop(\"overview\", axis=1)"
   ]
  },
  {
   "cell_type": "code",
   "execution_count": 13,
   "id": "3cc7e4db-5b38-44dd-85ce-27cc7ad6e34a",
   "metadata": {},
   "outputs": [],
   "source": [
    "df_TMDB.rename({'genres': 'genres_tmdb'}, axis=1, inplace=True)"
   ]
  },
  {
   "cell_type": "markdown",
   "id": "7c7047d9",
   "metadata": {},
   "source": [
    "### Box Office data"
   ]
  },
  {
   "cell_type": "code",
   "execution_count": 14,
   "id": "d5b94425",
   "metadata": {},
   "outputs": [
    {
     "name": "stdout",
     "output_type": "stream",
     "text": [
      "Found files: box_office_mojo/2014.csv, box_office_mojo/1982.csv, box_office_mojo/1979.csv, box_office_mojo/1980.csv, box_office_mojo/2008.csv, box_office_mojo/1997.csv, box_office_mojo/2015.csv, box_office_mojo/1986.csv, box_office_mojo/2010.csv, box_office_mojo/1978.csv, box_office_mojo/1996.csv, box_office_mojo/2011.csv, box_office_mojo/1998.csv, box_office_mojo/2009.csv, box_office_mojo/2005.csv, box_office_mojo/2018.csv, box_office_mojo/1977.csv, box_office_mojo/1981.csv, box_office_mojo/1994.csv, box_office_mojo/2013.csv, box_office_mojo/2002.csv, box_office_mojo/2006.csv, box_office_mojo/1991.csv, box_office_mojo/1985.csv, box_office_mojo/2017.csv, box_office_mojo/1984.csv, box_office_mojo/1995.csv, box_office_mojo/2016.csv, box_office_mojo/2001.csv, box_office_mojo/2007.csv, box_office_mojo/1989.csv, box_office_mojo/1988.csv, box_office_mojo/2012.csv, box_office_mojo/2000.csv, box_office_mojo/1990.csv, box_office_mojo/2004.csv, box_office_mojo/2021.csv, box_office_mojo/2022.csv, box_office_mojo/2020.csv, box_office_mojo/1999.csv, box_office_mojo/2019.csv, box_office_mojo/1983.csv, box_office_mojo/2003.csv, box_office_mojo/1993.csv, box_office_mojo/1987.csv, box_office_mojo/1992.csv\n"
     ]
    }
   ],
   "source": [
    "df_box_office_mojo = load_and_aggregate_box_office()\n",
    "\n",
    "# process the 'release group' (read movie title) in the same way as the formatted title\n",
    "df_box_office_mojo[\"Release Group\"] = df_box_office_mojo[\"Release Group\"].str.lower()\\\n",
    "                                       .str.normalize('NFKD')\\\n",
    "                                       .str.encode('ascii', errors='ignore')\\\n",
    "                                       .str.decode('utf-8')\\\n",
    "                                       .str.replace(\" \", \"_\", regex=True)\\\n",
    "                                       .str.replace(\"\\W\", \"\", regex=True)\n",
    "df_box_office_mojo.drop(['%', '%.1'], axis=1, inplace=True)"
   ]
  },
  {
   "cell_type": "markdown",
   "id": "75b2c15d",
   "metadata": {},
   "source": [
    "# Adding of exogenous columns"
   ]
  },
  {
   "cell_type": "code",
   "execution_count": 15,
   "id": "fec4b5a7",
   "metadata": {},
   "outputs": [
    {
     "name": "stdout",
     "output_type": "stream",
     "text": [
      "<class 'pandas.core.frame.DataFrame'>\n",
      "Index: 7959 entries, tt0015224 to tt9900782\n",
      "Data columns (total 9 columns):\n",
      " #   Column                 Non-Null Count  Dtype  \n",
      "---  ------                 --------------  -----  \n",
      " 0   primaryTitle           7959 non-null   object \n",
      " 1   originalTitle          3971 non-null   object \n",
      " 2   startYear              7173 non-null   object \n",
      " 3   endYear                786 non-null    object \n",
      " 4   runtimeMinutes         7946 non-null   float64\n",
      " 5   numVotes               7169 non-null   float64\n",
      " 6   label                  7959 non-null   bool   \n",
      " 7   primaryTitleFormatted  7959 non-null   object \n",
      " 8   Year                   7959 non-null   int64  \n",
      "dtypes: bool(1), float64(2), int64(1), object(5)\n",
      "memory usage: 567.4+ KB\n"
     ]
    }
   ],
   "source": [
    "df_incl_exog = df_preprocessed.copy(deep=True)\n",
    "df_incl_exog = df_incl_exog.rename({\"tconst\" : \"id\"}, axis = 1).set_index(\"id\")\n",
    "df_incl_exog.info()"
   ]
  },
  {
   "cell_type": "markdown",
   "id": "22710035",
   "metadata": {},
   "source": [
    "## add oscar data"
   ]
  },
  {
   "cell_type": "code",
   "execution_count": 16,
   "id": "91203e88",
   "metadata": {},
   "outputs": [],
   "source": [
    "df_incl_exog[\"oscar_noms\"] = oscar_noms\n",
    "df_incl_exog[\"oscar_wins\"] = oscar_wins"
   ]
  },
  {
   "cell_type": "code",
   "execution_count": null,
   "id": "038466b1",
   "metadata": {},
   "outputs": [],
   "source": []
  },
  {
   "cell_type": "code",
   "execution_count": 17,
   "id": "89f8ea99",
   "metadata": {},
   "outputs": [],
   "source": [
    "df_incl_exog[\"razzie_noms\"] = razzie_noms\n",
    "df_incl_exog[\"razzie_wins\"] = razzie_wins"
   ]
  },
  {
   "cell_type": "markdown",
   "id": "13b7e3c3",
   "metadata": {},
   "source": [
    "## add mojo box office"
   ]
  },
  {
   "cell_type": "code",
   "execution_count": 18,
   "id": "e448cb24",
   "metadata": {},
   "outputs": [],
   "source": [
    "df_incl_exog = df_incl_exog.reset_index().merge(df_box_office_mojo, left_on=['primaryTitleFormatted', 'Year'], right_on=['Release Group', 'year'], how=\"left\").set_index('id')\n",
    "df_incl_exog.drop(['Release Group', 'year'], axis=1, inplace=True)\n",
    "\n",
    "df_incl_exog.loc[df_incl_exog['Worldwide'] == '-', 'Worldwide'] = np.nan\n",
    "df_incl_exog.loc[df_incl_exog['Domestic'] == '-', 'Domestic'] = np.nan\n",
    "df_incl_exog.loc[df_incl_exog['Foreign'] == '-', 'Foreign'] = np.nan\n",
    "df_incl_exog.loc[df_incl_exog['Worldwide'].notnull(), 'Worldwide'] = df_incl_exog.loc[df_incl_exog['Worldwide'].notnull(), 'Worldwide'].apply(lambda x: float(x.replace('$', '').replace(',', '')))\n",
    "df_incl_exog.loc[df_incl_exog['Domestic'].notnull(), 'Domestic'] = df_incl_exog.loc[df_incl_exog['Domestic'].notnull(), 'Domestic'].apply(lambda x: float(x.replace('$', '').replace(',', '')))\n",
    "df_incl_exog.loc[df_incl_exog['Foreign'].notnull(), 'Foreign'] = df_incl_exog.loc[df_incl_exog['Foreign'].notnull(), 'Foreign'].apply(lambda x: float(x.replace('$', '').replace(',', '')))"
   ]
  },
  {
   "cell_type": "markdown",
   "id": "b84df305",
   "metadata": {},
   "source": [
    "## add remake column"
   ]
  },
  {
   "cell_type": "code",
   "execution_count": 19,
   "id": "b106c7e7",
   "metadata": {},
   "outputs": [],
   "source": [
    "df_incl_exog = create_remake_column(df_incl_exog)"
   ]
  },
  {
   "cell_type": "markdown",
   "id": "ffaec6a7",
   "metadata": {},
   "source": [
    "## add title language"
   ]
  },
  {
   "cell_type": "code",
   "execution_count": 20,
   "id": "90a087ca",
   "metadata": {},
   "outputs": [],
   "source": [
    "# # add the language of the original title, currently commented for training data usage and not wait 15 min every time\n",
    "# df_incl_exog = add_language_of_original_title(df_incl_exog)\n",
    "\n",
    "df_added_lang = pd.read_csv('additional_data/df_added_lang.csv', index_col=0)\n",
    "df_added_lang = df_added_lang.rename({\"tconst\" : \"id\"}, axis = 1).set_index(\"id\")\n",
    "df_incl_exog = df_incl_exog.join(df_added_lang['title_language'], how='left')"
   ]
  },
  {
   "cell_type": "markdown",
   "id": "7f4d5787",
   "metadata": {},
   "source": [
    "## add whether title is English or not"
   ]
  },
  {
   "cell_type": "code",
   "execution_count": 21,
   "id": "be3ba940",
   "metadata": {},
   "outputs": [],
   "source": [
    "df_incl_exog = add_english_title_or_not(df_incl_exog)"
   ]
  },
  {
   "cell_type": "markdown",
   "id": "815939b4",
   "metadata": {},
   "source": [
    "## add movie genres"
   ]
  },
  {
   "cell_type": "code",
   "execution_count": 22,
   "id": "b94ed4ce",
   "metadata": {},
   "outputs": [],
   "source": [
    "df_incl_exog = add_movie_genre(df_incl_exog)"
   ]
  },
  {
   "cell_type": "markdown",
   "id": "2a473028",
   "metadata": {},
   "source": [
    "## add writers and directors"
   ]
  },
  {
   "cell_type": "code",
   "execution_count": 23,
   "id": "381895a4",
   "metadata": {},
   "outputs": [],
   "source": [
    "# df_incl_exog = pd.concat([df_incl_exog.T, written_and_directed.T]).T"
   ]
  },
  {
   "cell_type": "markdown",
   "id": "9e90bca8",
   "metadata": {},
   "source": [
    "## add TMDB & Metacritic overviews"
   ]
  },
  {
   "cell_type": "code",
   "execution_count": 24,
   "id": "b6145206",
   "metadata": {},
   "outputs": [],
   "source": [
    "df_incl_exog = pd.merge(df_incl_exog, df_TMDB, how=\"left\", left_index=True, right_index=True)\n",
    "df_incl_exog = pd.merge(df_incl_exog, df_meta, how=\"left\", left_index=True, right_index=True)\n",
    "df_incl_exog = pd.merge(df_incl_exog, overviews, how=\"left\", left_index=True, right_index=True)"
   ]
  },
  {
   "cell_type": "code",
   "execution_count": 25,
   "id": "beafe60e-f702-49ca-a851-ea3ea72c9c46",
   "metadata": {},
   "outputs": [
    {
     "data": {
      "text/plain": [
       "Index(['primaryTitle', 'originalTitle', 'startYear', 'endYear',\n",
       "       'runtimeMinutes', 'numVotes', 'label', 'primaryTitleFormatted', 'Year',\n",
       "       'oscar_noms', 'oscar_wins', 'razzie_noms', 'razzie_wins', 'Rank',\n",
       "       'Worldwide', 'Domestic', 'Foreign', 'hasRemake', 'title_language',\n",
       "       'isEN', 'year', 'titleFormatted', 'genres_movielens', 'budget',\n",
       "       'genres_tmdb', 'original_language', 'popularity',\n",
       "       'production_companies', 'tagline', 'Keywords', 'revenue', 'genres_meta',\n",
       "       'language', 'overview_x', 'overview_y'],\n",
       "      dtype='object')"
      ]
     },
     "execution_count": 25,
     "metadata": {},
     "output_type": "execute_result"
    }
   ],
   "source": [
    "df_incl_exog.columns"
   ]
  },
  {
   "cell_type": "markdown",
   "id": "3dc304bc-1f40-49bd-ac5d-6f4469e0598e",
   "metadata": {},
   "source": [
    "## remove the last stuff we don't want"
   ]
  },
  {
   "cell_type": "code",
   "execution_count": null,
   "id": "3c640d6b-b2d0-47d3-8285-a9aeebbb708a",
   "metadata": {},
   "outputs": [],
   "source": []
  },
  {
   "cell_type": "code",
   "execution_count": 26,
   "id": "a6690747-dd7e-43f8-b0c6-a38de4075e41",
   "metadata": {},
   "outputs": [],
   "source": [
    "df_incl_exog['genres_tmdb']= df_incl_exog['genres_tmdb'].apply(lambda d: d if isinstance(d, list) else [])\n",
    "df_incl_exog['genres_meta']= df_incl_exog['genres_meta'].apply(lambda d: d if isinstance(d, list) else [])\n",
    "df_incl_exog['genres_movielens']= df_incl_exog['genres_movielens'].apply(lambda d: d if isinstance(d, list) else [])"
   ]
  },
  {
   "cell_type": "markdown",
   "id": "31c379c9-2ca8-40f9-935b-7e60909e2b4c",
   "metadata": {},
   "source": [
    "### merge genre columns together"
   ]
  },
  {
   "cell_type": "code",
   "execution_count": 27,
   "id": "41ebeeb9-c43e-4ead-a237-fdc0bfc4822c",
   "metadata": {},
   "outputs": [],
   "source": [
    "df_incl_exog['genres_combined'] = df_incl_exog['genres_meta'] + df_incl_exog['genres_tmdb'] + df_incl_exog['genres_movielens']\n",
    "df_incl_exog['genres_combined'] = df_incl_exog['genres_combined'].apply(lambda x: list(set(x)))\n",
    "df_incl_exog.drop(['genres_meta', 'genres_tmdb', 'genres_movielens'], axis=1, inplace=True, errors='ignore')\n"
   ]
  },
  {
   "cell_type": "code",
   "execution_count": 28,
   "id": "f314f423-9138-4b56-ae1f-247e8e8f822f",
   "metadata": {},
   "outputs": [],
   "source": [
    "s = df_incl_exog['genres_combined'].explode()\n",
    "df_incl_exog = df_incl_exog.join(pd.crosstab(s.index, s), how='left', lsuffix='x')"
   ]
  },
  {
   "cell_type": "markdown",
   "id": "b210cef4-343b-4926-86be-d9bf44c9e1c0",
   "metadata": {},
   "source": [
    "### coalesce revenue and box office values"
   ]
  },
  {
   "cell_type": "code",
   "execution_count": 29,
   "id": "364f2e23-4f2c-4f93-9f05-935dbd6bdb13",
   "metadata": {},
   "outputs": [],
   "source": [
    "df_incl_exog['revenue'] = df_incl_exog[['revenue', 'Worldwide']].max(axis=1)\n",
    "df_incl_exog[df_incl_exog['revenue'] < 100000] = np.nan"
   ]
  },
  {
   "cell_type": "code",
   "execution_count": 31,
   "id": "fca30683-8d18-49a3-81b1-9b9412be22dd",
   "metadata": {},
   "outputs": [
    {
     "name": "stdout",
     "output_type": "stream",
     "text": [
      "<class 'pandas.core.frame.DataFrame'>\n",
      "Index: 7959 entries, tt0015224 to tt9900782\n",
      "Data columns (total 46 columns):\n",
      " #   Column                Non-Null Count  Dtype  \n",
      "---  ------                --------------  -----  \n",
      " 0   primaryTitle          7919 non-null   object \n",
      " 1   originalTitle         3950 non-null   object \n",
      " 2   runtimeMinutes        7906 non-null   float64\n",
      " 3   numVotes              7135 non-null   float64\n",
      " 4   label                 7919 non-null   object \n",
      " 5   Year                  7919 non-null   float64\n",
      " 6   oscar_noms            892 non-null    float64\n",
      " 7   oscar_wins            892 non-null    float64\n",
      " 8   razzie_noms           84 non-null     float64\n",
      " 9   razzie_wins           84 non-null     float64\n",
      " 10  Rank                  1391 non-null   float64\n",
      " 11  hasRemake             7919 non-null   object \n",
      " 12  title_language        7919 non-null   object \n",
      " 13  isEN                  7919 non-null   object \n",
      " 14  year                  3937 non-null   float64\n",
      " 15  titleFormatted        3937 non-null   object \n",
      " 16  budget                1437 non-null   float64\n",
      " 17  original_language     1437 non-null   object \n",
      " 18  popularity            1437 non-null   float64\n",
      " 19  production_companies  1437 non-null   object \n",
      " 20  revenue               1595 non-null   float64\n",
      " 21  language              2826 non-null   object \n",
      " 22  Action                4387 non-null   float64\n",
      " 23  Adventure             4387 non-null   float64\n",
      " 24  Animation             4387 non-null   float64\n",
      " 25  Children              4387 non-null   float64\n",
      " 26  Comedy                4387 non-null   float64\n",
      " 27  Crime                 4387 non-null   float64\n",
      " 28  Documentary           4387 non-null   float64\n",
      " 29  Drama                 4387 non-null   float64\n",
      " 30  Family                4387 non-null   float64\n",
      " 31  Fantasy               4387 non-null   float64\n",
      " 32  Film-Noir             4387 non-null   float64\n",
      " 33  Foreign               4387 non-null   float64\n",
      " 34  History               4387 non-null   float64\n",
      " 35  Horror                4387 non-null   float64\n",
      " 36  IMAX                  4387 non-null   float64\n",
      " 37  Music                 4387 non-null   float64\n",
      " 38  Musical               4387 non-null   float64\n",
      " 39  Mystery               4387 non-null   float64\n",
      " 40  Romance               4387 non-null   float64\n",
      " 41  Sci-Fi                4387 non-null   float64\n",
      " 42  Science Fiction       4387 non-null   float64\n",
      " 43  Thriller              4387 non-null   float64\n",
      " 44  War                   4387 non-null   float64\n",
      " 45  Western               4387 non-null   float64\n",
      "dtypes: float64(36), object(10)\n",
      "memory usage: 3.1+ MB\n"
     ]
    }
   ],
   "source": [
    "# drop some unnecessary columns\n",
    "df_incl_exog.drop(['startYear', 'endYear', 'primaryTitleFormatted', 'Domestic', 'Foreignx', \n",
    "                   'Keywords', 'genres_combined', 'overview_x', 'overview_y', 'tagline', 'Worldwide'], axis=1, inplace=True, errors='ignore')\n",
    "df_incl_exog.info()"
   ]
  },
  {
   "cell_type": "markdown",
   "id": "877e2abd-00ca-4334-80ac-a1bde45075bf",
   "metadata": {},
   "source": [
    "### set columns with correct datatype"
   ]
  },
  {
   "cell_type": "code",
   "execution_count": 34,
   "id": "78d6fa3f-7d0e-4dd4-8fd7-2621723f1b84",
   "metadata": {},
   "outputs": [],
   "source": [
    "df_incl_exog['isEN'] = df_incl_exog['isEN'].astype('float')\n",
    "df_incl_exog['title_language'] = df_incl_exog['title_language'].astype('string')"
   ]
  },
  {
   "cell_type": "markdown",
   "id": "825a9bbe",
   "metadata": {},
   "source": [
    "## save dataframe with features"
   ]
  },
  {
   "cell_type": "code",
   "execution_count": null,
   "id": "1a53b687",
   "metadata": {},
   "outputs": [],
   "source": [
    "df_incl_exog.to_csv('df_with_features.csv')"
   ]
  },
  {
   "cell_type": "markdown",
   "id": "406a2618",
   "metadata": {},
   "source": [
    "# Preparing data for classifier"
   ]
  },
  {
   "cell_type": "markdown",
   "id": "c817177d",
   "metadata": {},
   "source": [
    "Convert non-numeric columns to numeric.\n",
    "We use Doc2Vec to embed each string column into n-by-128 array "
   ]
  },
  {
   "cell_type": "code",
   "execution_count": null,
   "id": "340b45e6",
   "metadata": {},
   "outputs": [],
   "source": [
    "# from py_files.df_processor_enrichment import df_processor_enrichment\n",
    "# train_df = pd.read_csv('df_with_features.csv', index_col=0)\n",
    "train_df = df_processor_enrichment('train')\n",
    "train_df.head()"
   ]
  },
  {
   "cell_type": "code",
   "execution_count": null,
   "id": "6dd68fab",
   "metadata": {},
   "outputs": [],
   "source": [
    "train_df[\"startYear\"] = train_df[\"startYear\"].astype(float)\n",
    "train_df[\"endYear\"] = train_df[\"endYear\"].astype(float)"
   ]
  },
  {
   "cell_type": "code",
   "execution_count": null,
   "id": "64935c4b",
   "metadata": {
    "scrolled": true
   },
   "outputs": [],
   "source": [
    "# from py_files.df_model_prep import df_model_prep\n",
    "\n",
    "train_df_prepped = df_model_prep(train_df,'train')\n",
    "train_df_prepped.head()"
   ]
  },
  {
   "cell_type": "markdown",
   "id": "3288d28f",
   "metadata": {},
   "source": [
    "# Evaluating classifier"
   ]
  },
  {
   "cell_type": "code",
   "execution_count": null,
   "id": "0e0eac29",
   "metadata": {},
   "outputs": [],
   "source": [
    "model_lgbm = lgb.LGBMClassifier(objective='binary',\n",
    "                                learning_rate=0.01,\n",
    "                                num_iterations=1000,\n",
    "                                feature_fraction=0.8,\n",
    "                                verbosity=1,\n",
    "                                random_state=17)\n",
    "model_lgbm.fit(train_df_prepped.loc[:, train_df_prepped.columns != 'label'],\n",
    "              train_df_prepped['label'],\n",
    "              eval_metric='logloss')"
   ]
  },
  {
   "cell_type": "markdown",
   "id": "370c09b6",
   "metadata": {},
   "source": [
    "# Predicting"
   ]
  },
  {
   "cell_type": "markdown",
   "id": "90e54fcc",
   "metadata": {},
   "source": [
    "## Add and process train and valid data"
   ]
  },
  {
   "cell_type": "code",
   "execution_count": null,
   "id": "a2d578f6",
   "metadata": {},
   "outputs": [],
   "source": [
    "valid_df = df_processor_enrichment('validation_hidden.csv')\n",
    "valid_df.head()"
   ]
  },
  {
   "cell_type": "code",
   "execution_count": null,
   "id": "b3a2542e",
   "metadata": {},
   "outputs": [],
   "source": [
    "valid_df[\"startYear\"] = train_df[\"startYear\"].astype(float)\n",
    "valid_df[\"endYear\"] = train_df[\"endYear\"].astype(float)"
   ]
  },
  {
   "cell_type": "code",
   "execution_count": null,
   "id": "469b0305",
   "metadata": {},
   "outputs": [],
   "source": [
    "valid_df_prepped = df_model_prep(valid_df, 'valid')\n",
    "valid_df_prepped.head()"
   ]
  },
  {
   "cell_type": "code",
   "execution_count": null,
   "id": "8b8615b3",
   "metadata": {
    "scrolled": true
   },
   "outputs": [],
   "source": [
    "valid_df_prepped.info()"
   ]
  },
  {
   "cell_type": "code",
   "execution_count": null,
   "id": "c7a5ad14",
   "metadata": {},
   "outputs": [],
   "source": [
    "test_df = df_processor_enrichment('test_hidden.csv')\n",
    "test_df.head()"
   ]
  },
  {
   "cell_type": "code",
   "execution_count": null,
   "id": "867cc87c",
   "metadata": {},
   "outputs": [],
   "source": [
    "test_df.info()"
   ]
  },
  {
   "cell_type": "code",
   "execution_count": null,
   "id": "6fffb115",
   "metadata": {},
   "outputs": [],
   "source": [
    "test_df_prepped = df_model_prep(test_df, 'test')\n",
    "test_df_prepped.head()"
   ]
  },
  {
   "cell_type": "code",
   "execution_count": null,
   "id": "65a9cf1d",
   "metadata": {},
   "outputs": [],
   "source": [
    "test_df_prepped.info()"
   ]
  },
  {
   "cell_type": "code",
   "execution_count": null,
   "id": "7b8f335b",
   "metadata": {},
   "outputs": [],
   "source": [
    "val_preds_lgbm = model_lgbm.predict(valid_df_prepped)\n",
    "test_preds_lgbm = model_lgbm.predict(test_df_prepped)"
   ]
  },
  {
   "cell_type": "code",
   "execution_count": null,
   "id": "0c1ac58c",
   "metadata": {},
   "outputs": [],
   "source": [
    "with open('val_preds_lgbm.txt', 'w+') as f:\n",
    "    for val in val_preds_lgbm:\n",
    "        f.write(f\"{str(val)}\\n\")"
   ]
  },
  {
   "cell_type": "code",
   "execution_count": null,
   "id": "88b8d65f",
   "metadata": {},
   "outputs": [],
   "source": [
    "with open('test_preds_lgbm.txt', 'w+') as f:\n",
    "    for val in test_preds_lgbm:\n",
    "        f.write(f\"{str(val)}\\n\")"
   ]
  },
  {
   "cell_type": "code",
   "execution_count": null,
   "id": "2a6ecedf",
   "metadata": {},
   "outputs": [],
   "source": []
  }
 ],
 "metadata": {
  "kernelspec": {
   "display_name": "Python 3 (ipykernel)",
   "language": "python",
   "name": "python3"
  },
  "language_info": {
   "codemirror_mode": {
    "name": "ipython",
    "version": 3
   },
   "file_extension": ".py",
   "mimetype": "text/x-python",
   "name": "python",
   "nbconvert_exporter": "python",
   "pygments_lexer": "ipython3",
   "version": "3.9.7"
  }
 },
 "nbformat": 4,
 "nbformat_minor": 5
}
