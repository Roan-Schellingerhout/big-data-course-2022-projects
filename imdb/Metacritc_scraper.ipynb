{
 "cells": [
  {
   "cell_type": "code",
   "execution_count": 1,
   "id": "d2d5bf78",
   "metadata": {},
   "outputs": [],
   "source": [
    "from selenium import webdriver\n",
    "from webdriver_manager.chrome import ChromeDriverManager\n",
    "\n",
    "from selenium.webdriver.support.ui import WebDriverWait\n",
    "from selenium.webdriver.support import expected_conditions as EC\n",
    "from selenium.common.exceptions import NoSuchElementException\n",
    "\n",
    "import glob\n",
    "import pandas as pd\n",
    "import time\n",
    "import requests\n",
    "import lxml.html\n",
    "\n",
    "from collections import defaultdict\n",
    "from tqdm import tqdm\n",
    "from bs4 import BeautifulSoup\n",
    "from lxml import etree"
   ]
  },
  {
   "cell_type": "code",
   "execution_count": 2,
   "id": "3a0a639b",
   "metadata": {},
   "outputs": [],
   "source": [
    "# options = webdriver.ChromeOptions()\n",
    "# options.add_argument('--no-sandbox')\n",
    "# options.add_argument('--window-size=1420,1080')\n",
    "# # options.add_argument('--headless')\n",
    "# options.add_argument('--disable-gpu')\n",
    "\n",
    "# driver = webdriver.Chrome(options=options)"
   ]
  },
  {
   "cell_type": "code",
   "execution_count": 15,
   "id": "9c1dd02d",
   "metadata": {},
   "outputs": [
    {
     "name": "stdout",
     "output_type": "stream",
     "text": [
      "Found files: train-1.csv, train-2.csv, train-3.csv, train-4.csv, train-5.csv, train-6.csv, train-7.csv, train-8.csv\n"
     ]
    }
   ],
   "source": [
    "all_files = glob.glob(\"train*.csv\")\n",
    "\n",
    "print(f\"Found files: {', '.join(all_files)}\")\n",
    "\n",
    "li = []\n",
    "\n",
    "for filename in all_files:\n",
    "    df = pd.read_csv(filename, index_col=None, header=0)\n",
    "    li.append(df)\n",
    "\n",
    "df = pd.concat(li, axis=0, ignore_index=True).drop(\"Unnamed: 0\", axis = 1)"
   ]
  },
  {
   "cell_type": "code",
   "execution_count": 7,
   "id": "2b21000f",
   "metadata": {},
   "outputs": [
    {
     "data": {
      "text/html": [
       "<div>\n",
       "<style scoped>\n",
       "    .dataframe tbody tr th:only-of-type {\n",
       "        vertical-align: middle;\n",
       "    }\n",
       "\n",
       "    .dataframe tbody tr th {\n",
       "        vertical-align: top;\n",
       "    }\n",
       "\n",
       "    .dataframe thead th {\n",
       "        text-align: right;\n",
       "    }\n",
       "</style>\n",
       "<table border=\"1\" class=\"dataframe\">\n",
       "  <thead>\n",
       "    <tr style=\"text-align: right;\">\n",
       "      <th></th>\n",
       "      <th>Unnamed: 0</th>\n",
       "      <th>tconst</th>\n",
       "      <th>primaryTitle</th>\n",
       "      <th>originalTitle</th>\n",
       "      <th>startYear</th>\n",
       "      <th>endYear</th>\n",
       "      <th>runtimeMinutes</th>\n",
       "      <th>numVotes</th>\n",
       "    </tr>\n",
       "  </thead>\n",
       "  <tbody>\n",
       "    <tr>\n",
       "      <th>0</th>\n",
       "      <td>22</td>\n",
       "      <td>tt0014972</td>\n",
       "      <td>He Who Gets Slapped</td>\n",
       "      <td>He Who Gets Slapped</td>\n",
       "      <td>1924</td>\n",
       "      <td>\\N</td>\n",
       "      <td>95</td>\n",
       "      <td>3654.0</td>\n",
       "    </tr>\n",
       "    <tr>\n",
       "      <th>1</th>\n",
       "      <td>23</td>\n",
       "      <td>tt0015016</td>\n",
       "      <td>The Iron Horse</td>\n",
       "      <td>NaN</td>\n",
       "      <td>1924</td>\n",
       "      <td>\\N</td>\n",
       "      <td>150</td>\n",
       "      <td>2136.0</td>\n",
       "    </tr>\n",
       "    <tr>\n",
       "      <th>2</th>\n",
       "      <td>26</td>\n",
       "      <td>tt0015174</td>\n",
       "      <td>Die Nibelungen: Kriemhild's Revenge</td>\n",
       "      <td>NaN</td>\n",
       "      <td>1924</td>\n",
       "      <td>\\N</td>\n",
       "      <td>129</td>\n",
       "      <td>4341.0</td>\n",
       "    </tr>\n",
       "    <tr>\n",
       "      <th>3</th>\n",
       "      <td>28</td>\n",
       "      <td>tt0015214</td>\n",
       "      <td>At 3:25</td>\n",
       "      <td>NaN</td>\n",
       "      <td>\\N</td>\n",
       "      <td>1925</td>\n",
       "      <td>59</td>\n",
       "      <td>1724.0</td>\n",
       "    </tr>\n",
       "    <tr>\n",
       "      <th>4</th>\n",
       "      <td>34</td>\n",
       "      <td>tt0015863</td>\n",
       "      <td>Go West</td>\n",
       "      <td>NaN</td>\n",
       "      <td>1925</td>\n",
       "      <td>\\N</td>\n",
       "      <td>69</td>\n",
       "      <td>4188.0</td>\n",
       "    </tr>\n",
       "  </tbody>\n",
       "</table>\n",
       "</div>"
      ],
      "text/plain": [
       "   Unnamed: 0     tconst                         primaryTitle  \\\n",
       "0          22  tt0014972                  He Who Gets Slapped   \n",
       "1          23  tt0015016                       The Iron Horse   \n",
       "2          26  tt0015174  Die Nibelungen: Kriemhild's Revenge   \n",
       "3          28  tt0015214                              At 3:25   \n",
       "4          34  tt0015863                              Go West   \n",
       "\n",
       "         originalTitle startYear endYear runtimeMinutes  numVotes  \n",
       "0  He Who Gets Slapped      1924      \\N             95    3654.0  \n",
       "1                  NaN      1924      \\N            150    2136.0  \n",
       "2                  NaN      1924      \\N            129    4341.0  \n",
       "3                  NaN        \\N    1925             59    1724.0  \n",
       "4                  NaN      1925      \\N             69    4188.0  "
      ]
     },
     "execution_count": 7,
     "metadata": {},
     "output_type": "execute_result"
    }
   ],
   "source": [
    "df = pd.read_csv(\"test_hidden.csv\")\n",
    "\n",
    "df.head()"
   ]
  },
  {
   "cell_type": "markdown",
   "id": "8af574c7",
   "metadata": {},
   "source": [
    "Commented-out cell is a version using selenium, which is rather slow"
   ]
  },
  {
   "cell_type": "code",
   "execution_count": 8,
   "id": "7176a8a8",
   "metadata": {},
   "outputs": [],
   "source": [
    "# for movie in tqdm(df[\"tconst\"]):\n",
    "#     driver.get(f\"https://www.imdb.com/title/{movie}/criticreviews\")\n",
    "    \n",
    "#     try:\n",
    "#         driver.find_element_by_xpath(\"//a[contains(@href, 'metacritic.com/movie')]\").click()\n",
    "#     except NoSuchElementException:\n",
    "#         continue\n",
    "    \n",
    "#     driver.switch_to.window(driver.window_handles[1])\n",
    "#     try:\n",
    "#         driver.find_element_by_xpath(\"//button[@id = 'onetrust-accept-btn-handler']\").click()\n",
    "#         time.sleep(0.5)\n",
    "#     except NoSuchElementException:\n",
    "#         pass\n",
    "    \n",
    "#     driver.find_element_by_xpath(\"//a[contains(@href, 'details')]\").click()\n",
    "    \n",
    "#     data[\"movie\"].append(movie)\n",
    "#     data[\"genres\"].append(driver.find_element_by_xpath(\"//tr[@class = 'genres']\").text)\n",
    "#     data[\"language\"].append(driver.find_element_by_xpath(\"//tr[@class = 'languages']\").text)\n",
    "#     data[\"overview\"].append(driver.find_element_by_xpath(\"//div[@class = 'summary']\").text)\n",
    "\n",
    "#     driver.close()\n",
    "#     driver.switch_to.window(driver.window_handles[0])    "
   ]
  },
  {
   "cell_type": "code",
   "execution_count": 9,
   "id": "7b66a88c",
   "metadata": {},
   "outputs": [
    {
     "name": "stderr",
     "output_type": "stream",
     "text": [
      "100%|██████████████████████████████████████| 1086/1086 [21:08<00:00,  1.17s/it]\n"
     ]
    }
   ],
   "source": [
    "data = defaultdict(list)\n",
    "\n",
    "htmlparser = etree.HTMLParser()\n",
    "\n",
    "headers = {'User-Agent': 'Mozilla/5.0 (Macintosh; Intel Mac OS X 10_11_5) AppleWebKit/537.36 (KHTML, like Gecko) Chrome/50.0.2661.102 Safari/537.36'}\n",
    "\n",
    "for movie in tqdm(df[\"tconst\"]):\n",
    "    # Find movie on IMDB\n",
    "    response = requests.get(f\"https://www.imdb.com/title/{movie}/criticreviews\", stream=True)\n",
    "    response.raw.decode_content = True\n",
    "        \n",
    "    tree = lxml.html.parse(response.raw)\n",
    "    \n",
    "    # Find the metacritic link\n",
    "    metacritic = tree.xpath(\"//a[contains(@href, 'metacritic.com/movie')]/@href\")\n",
    "    \n",
    "    # If metacritic link is present\n",
    "    if metacritic:\n",
    "        link = metacritic[0].split(\"?\")[0]\n",
    "\n",
    "        # Go to the details\n",
    "        response3 = requests.get(f\"{link}/details\", \n",
    "                                 stream=True, \n",
    "                                 headers=headers)\n",
    "        \n",
    "        response3.raw.decode_content = True\n",
    "        tree3 = lxml.html.parse(response3.raw)\n",
    "        \n",
    "        # Store relevant data\n",
    "        data[\"movie\"].append(movie)\n",
    "        data[\"genres\"].append(tree3.xpath(\"//tr[@class = 'genres']/td[@class = 'data']/span/text()\"))\n",
    "        data[\"language\"].append(tree3.xpath(\"//tr[@class = 'languages']/td[@class = 'data']/span/text()\"))\n",
    "        data[\"overview\"].append(tree3.xpath(\"//div[@class = 'summary']/span[not(@class)]/text()\"))    "
   ]
  },
  {
   "cell_type": "code",
   "execution_count": 10,
   "id": "fff63186",
   "metadata": {},
   "outputs": [],
   "source": [
    "pd.DataFrame(data).to_csv(\"Metacritic_test.csv\")"
   ]
  },
  {
   "cell_type": "code",
   "execution_count": null,
   "id": "347d32c4",
   "metadata": {},
   "outputs": [],
   "source": []
  }
 ],
 "metadata": {
  "kernelspec": {
   "display_name": "Python 3 (ipykernel)",
   "language": "python",
   "name": "python3"
  },
  "language_info": {
   "codemirror_mode": {
    "name": "ipython",
    "version": 3
   },
   "file_extension": ".py",
   "mimetype": "text/x-python",
   "name": "python",
   "nbconvert_exporter": "python",
   "pygments_lexer": "ipython3",
   "version": "3.9.7"
  }
 },
 "nbformat": 4,
 "nbformat_minor": 5
}
