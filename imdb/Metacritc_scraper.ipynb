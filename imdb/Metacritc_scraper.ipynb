{
 "cells": [
  {
   "cell_type": "code",
   "execution_count": 33,
   "id": "d2d5bf78",
   "metadata": {},
   "outputs": [],
   "source": [
    "from selenium import webdriver\n",
    "from webdriver_manager.chrome import ChromeDriverManager\n",
    "\n",
    "from selenium.webdriver.support.ui import WebDriverWait\n",
    "from selenium.webdriver.support import expected_conditions as EC\n",
    "from selenium.common.exceptions import NoSuchElementException\n",
    "\n",
    "import glob\n",
    "import pandas as pd\n",
    "import time\n",
    "import requests\n",
    "import lxml.html\n",
    "\n",
    "from collections import defaultdict\n",
    "from tqdm import tqdm\n",
    "from bs4 import BeautifulSoup\n",
    "from lxml import etree"
   ]
  },
  {
   "cell_type": "code",
   "execution_count": 19,
   "id": "3a0a639b",
   "metadata": {},
   "outputs": [],
   "source": [
    "options = webdriver.ChromeOptions()\n",
    "options.add_argument('--no-sandbox')\n",
    "options.add_argument('--window-size=1420,1080')\n",
    "# options.add_argument('--headless')\n",
    "options.add_argument('--disable-gpu')\n",
    "\n",
    "driver = webdriver.Chrome(options=options)"
   ]
  },
  {
   "cell_type": "code",
   "execution_count": 15,
   "id": "9c1dd02d",
   "metadata": {},
   "outputs": [
    {
     "name": "stdout",
     "output_type": "stream",
     "text": [
      "Found files: train-1.csv, train-2.csv, train-3.csv, train-4.csv, train-5.csv, train-6.csv, train-7.csv, train-8.csv\n"
     ]
    }
   ],
   "source": [
    "all_files = glob.glob(\"train*.csv\")\n",
    "\n",
    "print(f\"Found files: {', '.join(all_files)}\")\n",
    "\n",
    "li = []\n",
    "\n",
    "for filename in all_files:\n",
    "    df = pd.read_csv(filename, index_col=None, header=0)\n",
    "    li.append(df)\n",
    "\n",
    "df = pd.concat(li, axis=0, ignore_index=True).drop(\"Unnamed: 0\", axis = 1)"
   ]
  },
  {
   "cell_type": "markdown",
   "id": "8af574c7",
   "metadata": {},
   "source": [
    "Commented-out cell is a version using selenium, which is rather slow"
   ]
  },
  {
   "cell_type": "code",
   "execution_count": null,
   "id": "7176a8a8",
   "metadata": {},
   "outputs": [],
   "source": [
    "# for movie in tqdm(df[\"tconst\"]):\n",
    "#     driver.get(f\"https://www.imdb.com/title/{movie}/criticreviews\")\n",
    "    \n",
    "#     try:\n",
    "#         driver.find_element_by_xpath(\"//a[contains(@href, 'metacritic.com/movie')]\").click()\n",
    "#     except NoSuchElementException:\n",
    "#         continue\n",
    "    \n",
    "#     driver.switch_to.window(driver.window_handles[1])\n",
    "#     try:\n",
    "#         driver.find_element_by_xpath(\"//button[@id = 'onetrust-accept-btn-handler']\").click()\n",
    "#         time.sleep(0.5)\n",
    "#     except NoSuchElementException:\n",
    "#         pass\n",
    "    \n",
    "#     driver.find_element_by_xpath(\"//a[contains(@href, 'details')]\").click()\n",
    "    \n",
    "#     data[\"movie\"].append(movie)\n",
    "#     data[\"genres\"].append(driver.find_element_by_xpath(\"//tr[@class = 'genres']\").text)\n",
    "#     data[\"language\"].append(driver.find_element_by_xpath(\"//tr[@class = 'languages']\").text)\n",
    "#     data[\"overview\"].append(driver.find_element_by_xpath(\"//div[@class = 'summary']\").text)\n",
    "\n",
    "#     driver.close()\n",
    "#     driver.switch_to.window(driver.window_handles[0])    "
   ]
  },
  {
   "cell_type": "code",
   "execution_count": 98,
   "id": "7b66a88c",
   "metadata": {},
   "outputs": [
    {
     "name": "stderr",
     "output_type": "stream",
     "text": [
      "100%|████████████████████████████████████| 7959/7959 [2:08:47<00:00,  1.03it/s]\n"
     ]
    }
   ],
   "source": [
    "data = defaultdict(list)\n",
    "\n",
    "htmlparser = etree.HTMLParser()\n",
    "\n",
    "headers = {'User-Agent': 'Mozilla/5.0 (Macintosh; Intel Mac OS X 10_11_5) AppleWebKit/537.36 (KHTML, like Gecko) Chrome/50.0.2661.102 Safari/537.36'}\n",
    "\n",
    "for movie in tqdm(df[\"tconst\"]):\n",
    "    # Find movie on IMDB\n",
    "    response = requests.get(f\"https://www.imdb.com/title/{movie}/criticreviews\", stream=True)\n",
    "    response.raw.decode_content = True\n",
    "        \n",
    "    tree = lxml.html.parse(response.raw)\n",
    "    \n",
    "    # Find the metacritic link\n",
    "    metacritic = tree.xpath(\"//a[contains(@href, 'metacritic.com/movie')]/@href\")\n",
    "    \n",
    "    # If metacritic link is present\n",
    "    if metacritic:\n",
    "        link = metacritic[0].split(\"?\")[0]\n",
    "\n",
    "        # Go to the details\n",
    "        response3 = requests.get(f\"{link}/details\", \n",
    "                                 stream=True, \n",
    "                                 headers=headers)\n",
    "        \n",
    "        response3.raw.decode_content = True\n",
    "        tree3 = lxml.html.parse(response3.raw)\n",
    "        \n",
    "        # Store relevant data\n",
    "        data[\"movie\"].append(movie)\n",
    "        data[\"genres\"].append(tree3.xpath(\"//tr[@class = 'genres']/td[@class = 'data']/span/text()\"))\n",
    "        data[\"language\"].append(tree3.xpath(\"//tr[@class = 'languages']/td[@class = 'data']/span/text()\"))\n",
    "        data[\"overview\"].append(tree3.xpath(\"//div[@class = 'summary']/span[not(@class)]/text()\"))    "
   ]
  },
  {
   "cell_type": "code",
   "execution_count": 101,
   "id": "fff63186",
   "metadata": {},
   "outputs": [],
   "source": [
    "pd.DataFrame(data).to_csv(\"Metacritic.csv\")"
   ]
  },
  {
   "cell_type": "code",
   "execution_count": null,
   "id": "347d32c4",
   "metadata": {},
   "outputs": [],
   "source": []
  }
 ],
 "metadata": {
  "kernelspec": {
   "display_name": "Python 3 (ipykernel)",
   "language": "python",
   "name": "python3"
  },
  "language_info": {
   "codemirror_mode": {
    "name": "ipython",
    "version": 3
   },
   "file_extension": ".py",
   "mimetype": "text/x-python",
   "name": "python",
   "nbconvert_exporter": "python",
   "pygments_lexer": "ipython3",
   "version": "3.9.7"
  }
 },
 "nbformat": 4,
 "nbformat_minor": 5
}
